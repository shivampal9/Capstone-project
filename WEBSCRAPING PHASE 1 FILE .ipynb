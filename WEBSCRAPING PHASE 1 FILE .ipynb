{
 "cells": [
  {
   "cell_type": "code",
   "execution_count": 139,
   "id": "46945d8f",
   "metadata": {},
   "outputs": [
    {
     "name": "stdout",
     "output_type": "stream",
     "text": [
      "Requirement already satisfied: selenium in c:\\datatrained\\lib\\site-packages (4.16.0)\n",
      "Requirement already satisfied: urllib3[socks]<3,>=1.26 in c:\\datatrained\\lib\\site-packages (from selenium) (1.26.11)\n",
      "Requirement already satisfied: trio-websocket~=0.9 in c:\\datatrained\\lib\\site-packages (from selenium) (0.10.3)\n",
      "Requirement already satisfied: certifi>=2021.10.8 in c:\\datatrained\\lib\\site-packages (from selenium) (2022.9.14)\n",
      "Requirement already satisfied: trio~=0.17 in c:\\datatrained\\lib\\site-packages (from selenium) (0.22.2)\n",
      "Requirement already satisfied: attrs>=20.1.0 in c:\\datatrained\\lib\\site-packages (from trio~=0.17->selenium) (21.4.0)\n",
      "Requirement already satisfied: exceptiongroup>=1.0.0rc9 in c:\\datatrained\\lib\\site-packages (from trio~=0.17->selenium) (1.1.2)\n",
      "Requirement already satisfied: sortedcontainers in c:\\datatrained\\lib\\site-packages (from trio~=0.17->selenium) (2.4.0)\n",
      "Requirement already satisfied: cffi>=1.14 in c:\\datatrained\\lib\\site-packages (from trio~=0.17->selenium) (1.15.1)\n",
      "Requirement already satisfied: sniffio in c:\\datatrained\\lib\\site-packages (from trio~=0.17->selenium) (1.2.0)\n",
      "Requirement already satisfied: outcome in c:\\datatrained\\lib\\site-packages (from trio~=0.17->selenium) (1.2.0)\n",
      "Requirement already satisfied: idna in c:\\datatrained\\lib\\site-packages (from trio~=0.17->selenium) (3.3)\n",
      "Requirement already satisfied: wsproto>=0.14 in c:\\datatrained\\lib\\site-packages (from trio-websocket~=0.9->selenium) (1.2.0)\n",
      "Requirement already satisfied: PySocks!=1.5.7,<2.0,>=1.5.6 in c:\\datatrained\\lib\\site-packages (from urllib3[socks]<3,>=1.26->selenium) (1.7.1)\n",
      "Requirement already satisfied: pycparser in c:\\datatrained\\lib\\site-packages (from cffi>=1.14->trio~=0.17->selenium) (2.21)\n",
      "Requirement already satisfied: h11<1,>=0.9.0 in c:\\datatrained\\lib\\site-packages (from wsproto>=0.14->trio-websocket~=0.9->selenium) (0.14.0)\n"
     ]
    }
   ],
   "source": [
    "!pip install selenium\n",
    "\n",
    "import selenium                                 \n",
    "from bs4 import BeautifulSoup\n",
    "from selenium import webdriver                   \n",
    "import pandas as pd                         \n",
    "from selenium.webdriver.common.by import By     \n",
    "import warnings                                 \n",
    "warnings.filterwarnings(\"ignore\")\n",
    "import time                                      \n",
    "import re\n",
    "from selenium.common.exceptions import NoSuchElementException, StaleElementReferenceException\n",
    "from selenium.webdriver.support.ui import WebDriverWait\n",
    "from selenium.webdriver.common.by import By\n",
    "from selenium.webdriver.common.keys import Keys\n",
    "from selenium.webdriver.common.action_chains import ActionChains\n",
    "from selenium.webdriver.common.desired_capabilities import DesiredCapabilities"
   ]
  },
  {
   "cell_type": "code",
   "execution_count": 140,
   "id": "787db915",
   "metadata": {},
   "outputs": [],
   "source": [
    "from selenium import webdriver\n",
    "from selenium.webdriver.common.by import By\n",
    "from selenium.webdriver.support.ui import WebDriverWait\n",
    "from selenium.webdriver.support import expected_conditions as EC"
   ]
  },
  {
   "cell_type": "code",
   "execution_count": 141,
   "id": "696fee7d",
   "metadata": {},
   "outputs": [
    {
     "name": "stdout",
     "output_type": "stream",
     "text": [
      "Requirement already satisfied: selenium in c:\\datatrained\\lib\\site-packages (4.16.0)\n",
      "Requirement already satisfied: trio-websocket~=0.9 in c:\\datatrained\\lib\\site-packages (from selenium) (0.10.3)\n",
      "Requirement already satisfied: urllib3[socks]<3,>=1.26 in c:\\datatrained\\lib\\site-packages (from selenium) (1.26.11)\n",
      "Requirement already satisfied: certifi>=2021.10.8 in c:\\datatrained\\lib\\site-packages (from selenium) (2022.9.14)\n",
      "Requirement already satisfied: trio~=0.17 in c:\\datatrained\\lib\\site-packages (from selenium) (0.22.2)\n",
      "Requirement already satisfied: outcome in c:\\datatrained\\lib\\site-packages (from trio~=0.17->selenium) (1.2.0)\n",
      "Requirement already satisfied: cffi>=1.14 in c:\\datatrained\\lib\\site-packages (from trio~=0.17->selenium) (1.15.1)\n",
      "Requirement already satisfied: exceptiongroup>=1.0.0rc9 in c:\\datatrained\\lib\\site-packages (from trio~=0.17->selenium) (1.1.2)\n",
      "Requirement already satisfied: sortedcontainers in c:\\datatrained\\lib\\site-packages (from trio~=0.17->selenium) (2.4.0)\n",
      "Requirement already satisfied: sniffio in c:\\datatrained\\lib\\site-packages (from trio~=0.17->selenium) (1.2.0)\n",
      "Requirement already satisfied: idna in c:\\datatrained\\lib\\site-packages (from trio~=0.17->selenium) (3.3)\n",
      "Requirement already satisfied: attrs>=20.1.0 in c:\\datatrained\\lib\\site-packages (from trio~=0.17->selenium) (21.4.0)\n",
      "Requirement already satisfied: wsproto>=0.14 in c:\\datatrained\\lib\\site-packages (from trio-websocket~=0.9->selenium) (1.2.0)\n",
      "Requirement already satisfied: PySocks!=1.5.7,<2.0,>=1.5.6 in c:\\datatrained\\lib\\site-packages (from urllib3[socks]<3,>=1.26->selenium) (1.7.1)\n",
      "Requirement already satisfied: pycparser in c:\\datatrained\\lib\\site-packages (from cffi>=1.14->trio~=0.17->selenium) (2.21)\n",
      "Requirement already satisfied: h11<1,>=0.9.0 in c:\\datatrained\\lib\\site-packages (from wsproto>=0.14->trio-websocket~=0.9->selenium) (0.14.0)\n",
      "Note: you may need to restart the kernel to use updated packages.\n"
     ]
    }
   ],
   "source": [
    "pip install --upgrade selenium"
   ]
  },
  {
   "cell_type": "code",
   "execution_count": 551,
   "id": "0f7b87e8",
   "metadata": {},
   "outputs": [],
   "source": [
    "driver = webdriver.Chrome()"
   ]
  },
  {
   "cell_type": "code",
   "execution_count": 553,
   "id": "eb79e5a8",
   "metadata": {},
   "outputs": [],
   "source": [
    "driver.get(\"https://www.nike.com\")"
   ]
  },
  {
   "cell_type": "code",
   "execution_count": 554,
   "id": "b4e83e98",
   "metadata": {},
   "outputs": [],
   "source": [
    "shoe = driver.find_element(By.XPATH,'//input[@class=\"pre-search-input headline-5\"]')\n",
    "shoe.send_keys('shoe')"
   ]
  },
  {
   "cell_type": "code",
   "execution_count": 555,
   "id": "4e55a9b0",
   "metadata": {},
   "outputs": [],
   "source": [
    "search=driver.find_element(By.XPATH,'/html/body/div[3]/div/div[3]/header/div[1]/div[2]/div/div/div[2]/div[2]/div[1]/ul/li[1]/a')\n",
    "search.click()"
   ]
  },
  {
   "cell_type": "code",
   "execution_count": 556,
   "id": "228b1c1b",
   "metadata": {},
   "outputs": [],
   "source": [
    "for _ in range(200):\n",
    "    driver.execute_script(\"window.scrollBy(0,200)\")"
   ]
  },
  {
   "cell_type": "code",
   "execution_count": 191,
   "id": "6161a7ed",
   "metadata": {},
   "outputs": [],
   "source": [
    "shoename = []\n",
    "shoetitle = []\n",
    "color_nike = []\n",
    "price_nike=[]"
   ]
  },
  {
   "cell_type": "code",
   "execution_count": 192,
   "id": "fb80b87e",
   "metadata": {},
   "outputs": [],
   "source": [
    "shoe_name=driver.find_elements(By.XPATH,'//a[@class=\"product-card__link-overlay\"]')\n",
    "for i in shoe_name[0:100]:\n",
    "    shoe=i.text\n",
    "    shoename.append(shoe)\n",
    "    \n",
    "shoe_title=driver.find_elements(By.XPATH,'//div[@class=\"product-card__subtitle\"]')\n",
    "for i in shoe_title[0:100]:\n",
    "    shoes=i.text\n",
    "    shoetitle.append(shoes)\n",
    "    \n",
    "color_shoe = driver.find_elements(By.XPATH,'//div[@class=\"product-card__product-count\"]')\n",
    "for i in color_shoe[0:100]:\n",
    "    color=i.text\n",
    "    color_nike.append(color)\n",
    "    \n",
    "price = driver.find_elements(By.XPATH,'//div[@class=\"product-price in__styling is--current-price css-11s12ax\"]')\n",
    "for i in price[0:100]:\n",
    "    prices=i.text\n",
    "    price_nike.append(prices)"
   ]
  },
  {
   "cell_type": "code",
   "execution_count": 197,
   "id": "d12394ef",
   "metadata": {},
   "outputs": [],
   "source": [
    "mrp_values_nike = [price.split('₹ ')[1].replace(',', '') for price in price_nike]"
   ]
  },
  {
   "cell_type": "code",
   "execution_count": 198,
   "id": "c666bd58",
   "metadata": {},
   "outputs": [
    {
     "name": "stdout",
     "output_type": "stream",
     "text": [
      "10 795.00\n",
      "9 295.00\n",
      "5 995.00\n",
      "11 895.00\n",
      "5 695.00\n",
      "8 595.00\n",
      "9 695.00\n",
      "7 095.00\n",
      "7 995.00\n",
      "8 695.00\n",
      "4 995.00\n",
      "12 795.00\n",
      "7 095.00\n",
      "7 995.00\n",
      "12 795.00\n",
      "5 995.00\n",
      "12 795.00\n",
      "7 495.00\n",
      "17 495.00\n",
      "6 295.00\n",
      "10 995.00\n",
      "10 795.00\n",
      "15 295.00\n",
      "16 995.00\n",
      "13 995.00\n",
      "13 995.00\n",
      "14 995.00\n",
      "8 495.00\n",
      "13 995.00\n",
      "12 295.00\n",
      "7 495.00\n",
      "11 895.00\n",
      "8 995.00\n",
      "15 295.00\n",
      "11 495.00\n",
      "9 695.00\n",
      "5 695.00\n",
      "3 695.00\n",
      "6 795.00\n",
      "11 895.00\n",
      "3 195.00\n",
      "10 295.00\n",
      "12 995.00\n",
      "11 895.00\n",
      "8 695.00\n",
      "8 695.00\n",
      "11 495.00\n",
      "10 295.00\n",
      "5 695.00\n",
      "7 995.00\n",
      "10 795.00\n",
      "9 295.00\n",
      "12 795.00\n",
      "4 495.00\n",
      "3 495.00\n",
      "18 395.00\n",
      "8 995.00\n",
      "4 395.00\n",
      "4 995.00\n",
      "10 795.00\n",
      "14 995.00\n",
      "14 995.00\n",
      "14 995.00\n",
      "14 995.00\n",
      "12 795.00\n",
      "13 295.00\n",
      "7 995.00\n",
      "11 495.00\n",
      "3 495.00\n",
      "9 295.00\n",
      "6 995.00\n",
      "8 995.00\n",
      "8 295.00\n",
      "3 695.00\n",
      "21 295.00\n",
      "13 995.00\n",
      "8 295.00\n",
      "22 795.00\n",
      "8 995.00\n",
      "8 995.00\n",
      "9 195.00\n",
      "18 395.00\n",
      "9 695.00\n",
      "5 695.00\n",
      "12 295.00\n",
      "8 695.00\n",
      "16 995.00\n",
      "11 495.00\n",
      "5 995.00\n",
      "16 995.00\n",
      "13 995.00\n",
      "7 495.00\n",
      "10 295.00\n",
      "9 695.00\n",
      "12 295.00\n",
      "4 595.00\n",
      "9 695.00\n",
      "9 695.00\n",
      "5 495.00\n",
      "18 395.00\n"
     ]
    }
   ],
   "source": [
    "for mrp_value in mrp_values_nike:\n",
    "    print(mrp_value)"
   ]
  },
  {
   "cell_type": "code",
   "execution_count": 199,
   "id": "a7fba0d4",
   "metadata": {},
   "outputs": [],
   "source": [
    "df1 = pd.DataFrame({'ShoeName':shoename,'Category(Men/Women)':shoetitle,'no of colors':color_nike,'Price in Rs':mrp_values_nike})"
   ]
  },
  {
   "cell_type": "code",
   "execution_count": 200,
   "id": "316335e7",
   "metadata": {},
   "outputs": [
    {
     "data": {
      "text/html": [
       "<div>\n",
       "<style scoped>\n",
       "    .dataframe tbody tr th:only-of-type {\n",
       "        vertical-align: middle;\n",
       "    }\n",
       "\n",
       "    .dataframe tbody tr th {\n",
       "        vertical-align: top;\n",
       "    }\n",
       "\n",
       "    .dataframe thead th {\n",
       "        text-align: right;\n",
       "    }\n",
       "</style>\n",
       "<table border=\"1\" class=\"dataframe\">\n",
       "  <thead>\n",
       "    <tr style=\"text-align: right;\">\n",
       "      <th></th>\n",
       "      <th>ShoeName</th>\n",
       "      <th>Category(Men/Women)</th>\n",
       "      <th>no of colors</th>\n",
       "      <th>Price in Rs</th>\n",
       "    </tr>\n",
       "  </thead>\n",
       "  <tbody>\n",
       "    <tr>\n",
       "      <th>0</th>\n",
       "      <td>Nike Air Force 1 '07 LV8</td>\n",
       "      <td>Men's Shoes</td>\n",
       "      <td>1 Colour</td>\n",
       "      <td>10 795.00</td>\n",
       "    </tr>\n",
       "    <tr>\n",
       "      <th>1</th>\n",
       "      <td>Nike Air Force 1 Shadow</td>\n",
       "      <td>Women's Shoes</td>\n",
       "      <td>1 Colour</td>\n",
       "      <td>9 295.00</td>\n",
       "    </tr>\n",
       "    <tr>\n",
       "      <th>2</th>\n",
       "      <td>NikeCourt Legacy Suede</td>\n",
       "      <td>Men's Shoes</td>\n",
       "      <td>1 Colour</td>\n",
       "      <td>5 995.00</td>\n",
       "    </tr>\n",
       "    <tr>\n",
       "      <th>3</th>\n",
       "      <td>Nike Air Force 1 '07</td>\n",
       "      <td>Men's Shoes</td>\n",
       "      <td>2 Colours</td>\n",
       "      <td>11 895.00</td>\n",
       "    </tr>\n",
       "    <tr>\n",
       "      <th>4</th>\n",
       "      <td>NikeCourt Legacy Next Nature</td>\n",
       "      <td>Women's Shoes</td>\n",
       "      <td>4 Colours</td>\n",
       "      <td>5 695.00</td>\n",
       "    </tr>\n",
       "    <tr>\n",
       "      <th>...</th>\n",
       "      <td>...</td>\n",
       "      <td>...</td>\n",
       "      <td>...</td>\n",
       "      <td>...</td>\n",
       "    </tr>\n",
       "    <tr>\n",
       "      <th>95</th>\n",
       "      <td>Air Jordan 1 Low SE</td>\n",
       "      <td>Women's Shoes</td>\n",
       "      <td>2 Colours</td>\n",
       "      <td>4 595.00</td>\n",
       "    </tr>\n",
       "    <tr>\n",
       "      <th>96</th>\n",
       "      <td>Nike Air Force 1 '07</td>\n",
       "      <td>Men's Shoes</td>\n",
       "      <td>1 Colour</td>\n",
       "      <td>9 695.00</td>\n",
       "    </tr>\n",
       "    <tr>\n",
       "      <th>97</th>\n",
       "      <td>Air Jordan 1 Mid SE</td>\n",
       "      <td>Men's Shoes</td>\n",
       "      <td>1 Colour</td>\n",
       "      <td>9 695.00</td>\n",
       "    </tr>\n",
       "    <tr>\n",
       "      <th>98</th>\n",
       "      <td>Jordan 1 Low Alt SE</td>\n",
       "      <td>Baby/Toddler Shoes</td>\n",
       "      <td>1 Colour</td>\n",
       "      <td>5 495.00</td>\n",
       "    </tr>\n",
       "    <tr>\n",
       "      <th>99</th>\n",
       "      <td>Nike Air Force 1 '07 EasyOn</td>\n",
       "      <td>Shoes</td>\n",
       "      <td>1 Colour</td>\n",
       "      <td>18 395.00</td>\n",
       "    </tr>\n",
       "  </tbody>\n",
       "</table>\n",
       "<p>100 rows × 4 columns</p>\n",
       "</div>"
      ],
      "text/plain": [
       "                        ShoeName Category(Men/Women) no of colors Price in Rs\n",
       "0       Nike Air Force 1 '07 LV8         Men's Shoes     1 Colour   10 795.00\n",
       "1        Nike Air Force 1 Shadow       Women's Shoes     1 Colour    9 295.00\n",
       "2         NikeCourt Legacy Suede         Men's Shoes     1 Colour    5 995.00\n",
       "3           Nike Air Force 1 '07         Men's Shoes    2 Colours   11 895.00\n",
       "4   NikeCourt Legacy Next Nature       Women's Shoes    4 Colours    5 695.00\n",
       "..                           ...                 ...          ...         ...\n",
       "95           Air Jordan 1 Low SE       Women's Shoes    2 Colours    4 595.00\n",
       "96          Nike Air Force 1 '07         Men's Shoes     1 Colour    9 695.00\n",
       "97           Air Jordan 1 Mid SE         Men's Shoes     1 Colour    9 695.00\n",
       "98           Jordan 1 Low Alt SE  Baby/Toddler Shoes     1 Colour    5 495.00\n",
       "99   Nike Air Force 1 '07 EasyOn               Shoes     1 Colour   18 395.00\n",
       "\n",
       "[100 rows x 4 columns]"
      ]
     },
     "execution_count": 200,
     "metadata": {},
     "output_type": "execute_result"
    }
   ],
   "source": [
    "df1"
   ]
  },
  {
   "cell_type": "code",
   "execution_count": 559,
   "id": "5a36752d",
   "metadata": {},
   "outputs": [],
   "source": [
    "available_sizes=[]\n",
    "Stars=[]\n",
    "Reviews=[]\n",
    "Style_code=[]"
   ]
  },
  {
   "cell_type": "code",
   "execution_count": 568,
   "id": "27864386",
   "metadata": {},
   "outputs": [],
   "source": [
    "for i in page1_url[:100]:\n",
    "    driver.get(i)\n",
    "    time.sleep(3)\n",
    "    \n",
    "    # Sizes\n",
    "    sizes = driver.find_elements(By.XPATH, '//label[@class=\"css-xf3ahq\"]')\n",
    "    for size_element in sizes:\n",
    "        size_text = size_element.text.strip() if size_element.text else \"--\"\n",
    "        available_sizes.append(size_text)\n",
    "\n",
    "    # Stars\n",
    "    stars = driver.find_elements(By.XPATH, '//p[@class=\"d-sm-ib pl4-sm\"]')\n",
    "    for star_element in stars:\n",
    "        star_text = star_element.text.strip() if star_element.text else \"--\"\n",
    "        Stars.append(star_text)\n",
    "\n",
    "    # Reviews\n",
    "    reviews = driver.find_elements(By.XPATH, '//summary[@class=\" css-rptnlm\"]/h3/span')\n",
    "    for review_element in reviews:\n",
    "        review_text = review_element.text.strip() if review_element.text else \"--\"\n",
    "        Reviews.append(review_text)\n",
    "\n",
    "    # Style Code\n",
    "    style_codes = driver.find_elements(By.XPATH, '//li[@class=\"description-preview__style-color ncss-li\"]')\n",
    "    for style_code_element in style_codes:\n",
    "        style_code_text = style_code_element.text.strip() if style_code_element.text else \"--\"\n",
    "        Style_code.append(style_code_text)"
   ]
  },
  {
   "cell_type": "code",
   "execution_count": 570,
   "id": "ff2f81d7",
   "metadata": {},
   "outputs": [],
   "source": [
    "Available_sizes=available_sizes[:100]\n",
    "stars=Stars[:100]\n",
    "reviews=Reviews[:100]\n",
    "style_code=Style_code[:100]"
   ]
  },
  {
   "cell_type": "code",
   "execution_count": 571,
   "id": "b1f88d0a",
   "metadata": {},
   "outputs": [
    {
     "data": {
      "text/html": [
       "<div>\n",
       "<style scoped>\n",
       "    .dataframe tbody tr th:only-of-type {\n",
       "        vertical-align: middle;\n",
       "    }\n",
       "\n",
       "    .dataframe tbody tr th {\n",
       "        vertical-align: top;\n",
       "    }\n",
       "\n",
       "    .dataframe thead th {\n",
       "        text-align: right;\n",
       "    }\n",
       "</style>\n",
       "<table border=\"1\" class=\"dataframe\">\n",
       "  <thead>\n",
       "    <tr style=\"text-align: right;\">\n",
       "      <th></th>\n",
       "      <th>Sizes</th>\n",
       "      <th>No. of stars</th>\n",
       "      <th>No. of reviews</th>\n",
       "      <th>Style_code</th>\n",
       "    </tr>\n",
       "  </thead>\n",
       "  <tbody>\n",
       "    <tr>\n",
       "      <th>0</th>\n",
       "      <td>UK 6 (EU 40)</td>\n",
       "      <td>--</td>\n",
       "      <td>Reviews (0)</td>\n",
       "      <td>Style: FJ4170-002</td>\n",
       "    </tr>\n",
       "    <tr>\n",
       "      <th>1</th>\n",
       "      <td>UK 6.5</td>\n",
       "      <td>--</td>\n",
       "      <td>Reviews (0)</td>\n",
       "      <td>Style: DO7449-111</td>\n",
       "    </tr>\n",
       "    <tr>\n",
       "      <th>2</th>\n",
       "      <td>UK 7</td>\n",
       "      <td>--</td>\n",
       "      <td>Reviews (2)</td>\n",
       "      <td>Style: DH0956-002</td>\n",
       "    </tr>\n",
       "    <tr>\n",
       "      <th>3</th>\n",
       "      <td>UK 7.5</td>\n",
       "      <td>--</td>\n",
       "      <td>Reviews (0)</td>\n",
       "      <td>Style: FJ4146-100</td>\n",
       "    </tr>\n",
       "    <tr>\n",
       "      <th>4</th>\n",
       "      <td>UK 8</td>\n",
       "      <td>--</td>\n",
       "      <td>Reviews (0)</td>\n",
       "      <td>Style: FZ4627-400</td>\n",
       "    </tr>\n",
       "    <tr>\n",
       "      <th>...</th>\n",
       "      <td>...</td>\n",
       "      <td>...</td>\n",
       "      <td>...</td>\n",
       "      <td>...</td>\n",
       "    </tr>\n",
       "    <tr>\n",
       "      <th>95</th>\n",
       "      <td>UK 6 (EU 40)</td>\n",
       "      <td>--</td>\n",
       "      <td>Reviews (5)</td>\n",
       "      <td>Style: DX4399-001</td>\n",
       "    </tr>\n",
       "    <tr>\n",
       "      <th>96</th>\n",
       "      <td>UK 6.5</td>\n",
       "      <td>--</td>\n",
       "      <td>Reviews (50)</td>\n",
       "      <td>Style: FJ0742-081</td>\n",
       "    </tr>\n",
       "    <tr>\n",
       "      <th>97</th>\n",
       "      <td>UK 7</td>\n",
       "      <td>--</td>\n",
       "      <td>Reviews (3)</td>\n",
       "      <td>Style: DD9293-011</td>\n",
       "    </tr>\n",
       "    <tr>\n",
       "      <th>98</th>\n",
       "      <td>UK 7.5</td>\n",
       "      <td>--</td>\n",
       "      <td>Reviews (25)</td>\n",
       "      <td>Style: FN1187-001</td>\n",
       "    </tr>\n",
       "    <tr>\n",
       "      <th>99</th>\n",
       "      <td>UK 8</td>\n",
       "      <td>--</td>\n",
       "      <td>Reviews (37)</td>\n",
       "      <td>Style: DD9311-101</td>\n",
       "    </tr>\n",
       "  </tbody>\n",
       "</table>\n",
       "<p>100 rows × 4 columns</p>\n",
       "</div>"
      ],
      "text/plain": [
       "           Sizes No. of stars No. of reviews         Style_code\n",
       "0   UK 6 (EU 40)           --    Reviews (0)  Style: FJ4170-002\n",
       "1         UK 6.5           --    Reviews (0)  Style: DO7449-111\n",
       "2           UK 7           --    Reviews (2)  Style: DH0956-002\n",
       "3         UK 7.5           --    Reviews (0)  Style: FJ4146-100\n",
       "4           UK 8           --    Reviews (0)  Style: FZ4627-400\n",
       "..           ...          ...            ...                ...\n",
       "95  UK 6 (EU 40)           --    Reviews (5)  Style: DX4399-001\n",
       "96        UK 6.5           --   Reviews (50)  Style: FJ0742-081\n",
       "97          UK 7           --    Reviews (3)  Style: DD9293-011\n",
       "98        UK 7.5           --   Reviews (25)  Style: FN1187-001\n",
       "99          UK 8           --   Reviews (37)  Style: DD9311-101\n",
       "\n",
       "[100 rows x 4 columns]"
      ]
     },
     "execution_count": 571,
     "metadata": {},
     "output_type": "execute_result"
    }
   ],
   "source": [
    "df2=pd.DataFrame({'Sizes':Available_sizes[:100],'No. of stars':stars[:100],'No. of reviews':reviews[:100],'Style_code':style_code[:100]})\n",
    "df2"
   ]
  },
  {
   "cell_type": "code",
   "execution_count": null,
   "id": "c0555bf6",
   "metadata": {},
   "outputs": [],
   "source": []
  },
  {
   "cell_type": "code",
   "execution_count": null,
   "id": "d9233500",
   "metadata": {},
   "outputs": [],
   "source": []
  },
  {
   "cell_type": "code",
   "execution_count": null,
   "id": "f2fe1381",
   "metadata": {},
   "outputs": [],
   "source": []
  },
  {
   "cell_type": "code",
   "execution_count": 478,
   "id": "129473a8",
   "metadata": {},
   "outputs": [],
   "source": [
    "driver = webdriver.Chrome()\n",
    "driver.get(\"https://www.adidas.com\")"
   ]
  },
  {
   "cell_type": "code",
   "execution_count": 479,
   "id": "0b06760a",
   "metadata": {},
   "outputs": [],
   "source": [
    "shoe = driver.find_element(By.XPATH,'/html/body/div[1]/div[2]/div[2]/div/header/div[2]/div/div[2]/div/input')\n",
    "shoe.send_keys('shoe')"
   ]
  },
  {
   "cell_type": "code",
   "execution_count": 480,
   "id": "52bc9942",
   "metadata": {},
   "outputs": [],
   "source": [
    "search=driver.find_element(By.XPATH,'/html/body/div[1]/div[2]/div[2]/div/header/div[2]/div/div[2]/div/div[2]/div/div[1]/div[2]/a[5]')\n",
    "search.click()"
   ]
  },
  {
   "cell_type": "code",
   "execution_count": 481,
   "id": "535d878d",
   "metadata": {},
   "outputs": [],
   "source": [
    "title_adidas=[]\n",
    "category_adidas=[]\n",
    "color_adidas=[]\n",
    "price_adidas=[]\n",
    "sizes_adidas=[]\n",
    "durablility_adidas=[]\n",
    "stars_adidas=[]\n",
    "reviews_adidas=[]\n",
    "code_adidas=[]"
   ]
  },
  {
   "cell_type": "code",
   "execution_count": 488,
   "id": "d955006c",
   "metadata": {},
   "outputs": [],
   "source": [
    "start=0\n",
    "end=3\n",
    "for page in range(start,end):\n",
    "    \n",
    "    title_shoes=driver.find_elements(By.XPATH,'//p[@class=\"glass-product-card__title\"]')\n",
    "for i in title_shoes[0:100]:\n",
    "    title=i.text\n",
    "    title_adidas.append(title)\n",
    "    \n",
    "    category_shoes=driver.find_elements(By.XPATH,'//p[@class=\"glass-product-card__category\"]')\n",
    "for i in category_shoes[0:100]:\n",
    "    category=i.text\n",
    "    category_adidas.append(category)\n",
    "    \n",
    "    color = driver.find_elements(By.XPATH,'//p[@class=\"glass-product-card__label\"]')\n",
    "for i in color[0:100]:\n",
    "    colors=i.text\n",
    "    color_adidas.append(colors)\n",
    "    \n",
    "nxt_button=driver.find_element(By.XPATH,'/html/body/div[2]/div/div[1]/div[1]/div/div/div[5]/div/div[3]/div/div/div/div[2]/div/div/div/div[4]/a/span')\n",
    "nxt_button.click()"
   ]
  },
  {
   "cell_type": "code",
   "execution_count": 492,
   "id": "9d22e90a",
   "metadata": {},
   "outputs": [
    {
     "data": {
      "text/plain": [
       "192"
      ]
     },
     "execution_count": 492,
     "metadata": {},
     "output_type": "execute_result"
    }
   ],
   "source": [
    "len(title_adidas)"
   ]
  },
  {
   "cell_type": "code",
   "execution_count": 497,
   "id": "99c335cc",
   "metadata": {},
   "outputs": [],
   "source": [
    "product_urls=[]\n",
    "start=0\n",
    "end=3\n",
    "for page in range(start,end):\n",
    "    url=driver.find_elements(By.XPATH,'//a[@data-auto-id=\"glass-hockeycard-link\"]')\n",
    "    for i in url:\n",
    "        product_urls.append(i.get_attribute(\"href\"))\n",
    "    nxt_button=driver.find_element(By.XPATH,'/html/body/div[2]/div/div[1]/div[1]/div/div/div[5]/div/div[3]/div/div/div/div[2]/div/div/div/div[4]/a/span')\n",
    "    nxt_button.click()\n",
    "    time.sleep(2)"
   ]
  },
  {
   "cell_type": "code",
   "execution_count": 498,
   "id": "21007149",
   "metadata": {},
   "outputs": [
    {
     "data": {
      "text/plain": [
       "144"
      ]
     },
     "execution_count": 498,
     "metadata": {},
     "output_type": "execute_result"
    }
   ],
   "source": [
    "len(product_urls)"
   ]
  },
  {
   "cell_type": "code",
   "execution_count": 499,
   "id": "d332eb16",
   "metadata": {},
   "outputs": [],
   "source": [
    "for url in product_urls[:100]:\n",
    "    driver.get(url)\n",
    "    time.sleep(2)\n",
    "    \n",
    "    try:\n",
    "        price=driver.find_element(By.XPATH,'//div[@class=\"product-description___1TLpA\"]/div/div/div/div/div')\n",
    "        price_adidas.append(price.text)\n",
    "    except NoSuchElementException:\n",
    "        price_adidas.append('-')\n",
    "        \n",
    "    try:\n",
    "        sizes=driver.find_element(By.XPATH,'//button[@class=\"gl-label size___2lbev\"]')\n",
    "        sizes_adidas.append(sizes.text)\n",
    "    except NoSuchElementException:\n",
    "        sizes_adidas.append('-')\n",
    "        \n",
    "        \n",
    "    try:\n",
    "        Reviews=driver.find_element(By.XPATH,'//div[@class=\"reviews-header___1kFSZ\"]/h2')\n",
    "        reviews_adidas.append(Reviews.text)\n",
    "    except NoSuchElementException:\n",
    "        reviews_adidas.append('-')\n",
    "        \n",
    "    try:\n",
    "        Stars=driver.find_element(By.XPATH,'//div[@class=\"ratings-label-container___13pr-\"]/span')\n",
    "        stars_adidas.append(Stars.text)\n",
    "    except NoSuchElementException:\n",
    "        stars_adidas.append('-')"
   ]
  },
  {
   "cell_type": "code",
   "execution_count": 584,
   "id": "9eb70f56",
   "metadata": {},
   "outputs": [
    {
     "data": {
      "text/plain": [
       "100"
      ]
     },
     "execution_count": 584,
     "metadata": {},
     "output_type": "execute_result"
    }
   ],
   "source": [
    "len(price_adidas)"
   ]
  },
  {
   "cell_type": "code",
   "execution_count": 301,
   "id": "59a1c554",
   "metadata": {},
   "outputs": [],
   "source": [
    "price_adidas_without_rupee = [price.replace('₹', '').strip() for price in price_adidas]"
   ]
  },
  {
   "cell_type": "code",
   "execution_count": 302,
   "id": "8258cd3e",
   "metadata": {},
   "outputs": [
    {
     "name": "stdout",
     "output_type": "stream",
     "text": [
      "8 999.00\n",
      "10 999.00\n",
      "11 999.00\n",
      "8 999.00\n",
      "10 999.00\n",
      "5 999.00\n",
      "19 999.00\n",
      "5 599.00\n",
      "11 999.00\n",
      "4 299.00\n",
      "17 999.00\n",
      "7 999.00\n",
      "11 999.00\n",
      "6 599.00\n",
      "17 999.00\n",
      "6 999.00\n",
      "3 299.00\n",
      "3 999.00\n",
      "3 999.00\n",
      "3 599.00\n",
      "13 999.00\n",
      "12 999.00\n",
      "5 599.00\n",
      "3 599.00\n",
      "5 599.00\n",
      "7 999.00\n",
      "5 999.00\n",
      "5 999.00\n",
      "21 999.00\n",
      "12 999.00\n",
      "5 599.00\n",
      "3 299.00\n",
      "9 999.00\n",
      "15 999.00\n",
      "3 599.00\n",
      "4 999.00\n",
      "6 599.00\n",
      "10 999.00\n",
      "14 999.00\n",
      "12 999.00\n",
      "14 999.00\n",
      "8 999.00\n",
      "9 999.00\n",
      "69 999.00\n",
      "69 999.00\n",
      "11 999.00\n",
      "17 999.00\n",
      "7 999.00\n",
      "6 999.00\n",
      "6 599.00\n",
      "12 999.00\n",
      "5 999.00\n",
      "5 599.00\n",
      "4 999.00\n",
      "13 999.00\n",
      "64 999.00\n",
      "12 999.00\n",
      "10 999.00\n",
      "12 999.00\n",
      "64 999.00\n",
      "6 599.00\n",
      "10 999.00\n",
      "12 999.00\n",
      "10 999.00\n",
      "21 999.00\n",
      "11 999.00\n",
      "9 999.00\n",
      "2 499.00\n",
      "22 999.00\n",
      "18 999.00\n",
      "4 999.00\n",
      "22 999.00\n",
      "9 999.00\n",
      "10 999.00\n",
      "5 999.00\n",
      "10 999.00\n",
      "10 999.00\n",
      "7 599.00\n",
      "4 999.00\n",
      "9 999.00\n",
      "9 999.00\n",
      "22 999.00\n",
      "6 999.00\n",
      "29 999.00\n",
      "29 999.00\n",
      "10 999.00\n",
      "13 999.00\n",
      "7 999.00\n",
      "7 599.00\n",
      "10 999.00\n",
      "7 999.00\n",
      "9 999.00\n",
      "7 999.00\n",
      "5 999.00\n",
      "26 999.00\n",
      "26 999.00\n"
     ]
    }
   ],
   "source": [
    "for price in price_adidas_without_rupee:\n",
    "    print(price)"
   ]
  },
  {
   "cell_type": "code",
   "execution_count": 609,
   "id": "708c03b2",
   "metadata": {},
   "outputs": [
    {
     "data": {
      "text/plain": [
       "100"
      ]
     },
     "execution_count": 609,
     "metadata": {},
     "output_type": "execute_result"
    }
   ],
   "source": [
    "len(price_adidas)"
   ]
  },
  {
   "cell_type": "code",
   "execution_count": null,
   "id": "21ac9068",
   "metadata": {},
   "outputs": [],
   "source": []
  },
  {
   "cell_type": "code",
   "execution_count": null,
   "id": "fbe5ab53",
   "metadata": {},
   "outputs": [],
   "source": []
  },
  {
   "cell_type": "code",
   "execution_count": null,
   "id": "1d9f7a57",
   "metadata": {},
   "outputs": [],
   "source": []
  },
  {
   "cell_type": "code",
   "execution_count": 585,
   "id": "d45f387e",
   "metadata": {},
   "outputs": [
    {
     "data": {
      "text/html": [
       "<div>\n",
       "<style scoped>\n",
       "    .dataframe tbody tr th:only-of-type {\n",
       "        vertical-align: middle;\n",
       "    }\n",
       "\n",
       "    .dataframe tbody tr th {\n",
       "        vertical-align: top;\n",
       "    }\n",
       "\n",
       "    .dataframe thead th {\n",
       "        text-align: right;\n",
       "    }\n",
       "</style>\n",
       "<table border=\"1\" class=\"dataframe\">\n",
       "  <thead>\n",
       "    <tr style=\"text-align: right;\">\n",
       "      <th></th>\n",
       "      <th>ShoeName</th>\n",
       "      <th>Category(Men/Women)</th>\n",
       "      <th>no of colors</th>\n",
       "      <th>Price in Rs</th>\n",
       "    </tr>\n",
       "  </thead>\n",
       "  <tbody>\n",
       "    <tr>\n",
       "      <th>0</th>\n",
       "      <td>Superstar Shoes</td>\n",
       "      <td>originals</td>\n",
       "      <td>2 colours</td>\n",
       "      <td>₹8 999.00</td>\n",
       "    </tr>\n",
       "    <tr>\n",
       "      <th>1</th>\n",
       "      <td>Superstar Shoes</td>\n",
       "      <td>Women Lifestyle</td>\n",
       "      <td></td>\n",
       "      <td>₹8 999.00</td>\n",
       "    </tr>\n",
       "    <tr>\n",
       "      <th>2</th>\n",
       "      <td>Samba OG Shoes</td>\n",
       "      <td>originals</td>\n",
       "      <td>2 colours</td>\n",
       "      <td>₹10 999.00</td>\n",
       "    </tr>\n",
       "    <tr>\n",
       "      <th>3</th>\n",
       "      <td>Samba OG Shoes</td>\n",
       "      <td>originals</td>\n",
       "      <td>2 colours</td>\n",
       "      <td>₹11 999.00</td>\n",
       "    </tr>\n",
       "    <tr>\n",
       "      <th>4</th>\n",
       "      <td>Superstar Shoes</td>\n",
       "      <td>Men originals</td>\n",
       "      <td>2 colours</td>\n",
       "      <td>₹8 999.00</td>\n",
       "    </tr>\n",
       "    <tr>\n",
       "      <th>...</th>\n",
       "      <td>...</td>\n",
       "      <td>...</td>\n",
       "      <td>...</td>\n",
       "      <td>...</td>\n",
       "    </tr>\n",
       "    <tr>\n",
       "      <th>95</th>\n",
       "      <td>NMD_G1 Shoes</td>\n",
       "      <td>Men Lifestyle</td>\n",
       "      <td></td>\n",
       "      <td>₹13 999.00</td>\n",
       "    </tr>\n",
       "    <tr>\n",
       "      <th>96</th>\n",
       "      <td>Superstar Shoes</td>\n",
       "      <td>originals</td>\n",
       "      <td>2 colours</td>\n",
       "      <td>₹7 999.00</td>\n",
       "    </tr>\n",
       "    <tr>\n",
       "      <th>97</th>\n",
       "      <td>Superstar Shoes</td>\n",
       "      <td>Women Lifestyle</td>\n",
       "      <td></td>\n",
       "      <td>₹10 999.00</td>\n",
       "    </tr>\n",
       "    <tr>\n",
       "      <th>98</th>\n",
       "      <td>Samba OG Shoes</td>\n",
       "      <td>originals</td>\n",
       "      <td>4 colours</td>\n",
       "      <td>₹7 999.00</td>\n",
       "    </tr>\n",
       "    <tr>\n",
       "      <th>99</th>\n",
       "      <td>Samba OG Shoes</td>\n",
       "      <td>originals</td>\n",
       "      <td>4 colours</td>\n",
       "      <td>₹6 999.00</td>\n",
       "    </tr>\n",
       "  </tbody>\n",
       "</table>\n",
       "<p>100 rows × 4 columns</p>\n",
       "</div>"
      ],
      "text/plain": [
       "           ShoeName Category(Men/Women) no of colors Price in Rs\n",
       "0   Superstar Shoes           originals    2 colours   ₹8 999.00\n",
       "1   Superstar Shoes     Women Lifestyle                ₹8 999.00\n",
       "2    Samba OG Shoes           originals    2 colours  ₹10 999.00\n",
       "3    Samba OG Shoes           originals    2 colours  ₹11 999.00\n",
       "4   Superstar Shoes       Men originals    2 colours   ₹8 999.00\n",
       "..              ...                 ...          ...         ...\n",
       "95     NMD_G1 Shoes       Men Lifestyle               ₹13 999.00\n",
       "96  Superstar Shoes           originals    2 colours   ₹7 999.00\n",
       "97  Superstar Shoes     Women Lifestyle               ₹10 999.00\n",
       "98   Samba OG Shoes           originals    4 colours   ₹7 999.00\n",
       "99   Samba OG Shoes           originals    4 colours   ₹6 999.00\n",
       "\n",
       "[100 rows x 4 columns]"
      ]
     },
     "execution_count": 585,
     "metadata": {},
     "output_type": "execute_result"
    }
   ],
   "source": [
    "df3 = pd.DataFrame({'ShoeName':title_adidas[:100],'Category(Men/Women)':category_adidas[:100],'no of colors':color_adidas[:100],'Price in Rs':price_adidas[:100]})\n",
    "df3"
   ]
  },
  {
   "cell_type": "code",
   "execution_count": 502,
   "id": "3e74dd3f",
   "metadata": {},
   "outputs": [
    {
     "data": {
      "text/html": [
       "<div>\n",
       "<style scoped>\n",
       "    .dataframe tbody tr th:only-of-type {\n",
       "        vertical-align: middle;\n",
       "    }\n",
       "\n",
       "    .dataframe tbody tr th {\n",
       "        vertical-align: top;\n",
       "    }\n",
       "\n",
       "    .dataframe thead th {\n",
       "        text-align: right;\n",
       "    }\n",
       "</style>\n",
       "<table border=\"1\" class=\"dataframe\">\n",
       "  <thead>\n",
       "    <tr style=\"text-align: right;\">\n",
       "      <th></th>\n",
       "      <th>Sizes</th>\n",
       "      <th>No. of stars</th>\n",
       "      <th>No. of reviews</th>\n",
       "    </tr>\n",
       "  </thead>\n",
       "  <tbody>\n",
       "    <tr>\n",
       "      <th>0</th>\n",
       "      <td>3</td>\n",
       "      <td>4.8</td>\n",
       "      <td>Reviews (4901)</td>\n",
       "    </tr>\n",
       "    <tr>\n",
       "      <th>1</th>\n",
       "      <td>-</td>\n",
       "      <td>4.6</td>\n",
       "      <td>Reviews (82)</td>\n",
       "    </tr>\n",
       "    <tr>\n",
       "      <th>2</th>\n",
       "      <td>-</td>\n",
       "      <td>4.7</td>\n",
       "      <td>Reviews (7207)</td>\n",
       "    </tr>\n",
       "    <tr>\n",
       "      <th>3</th>\n",
       "      <td>-</td>\n",
       "      <td>4.7</td>\n",
       "      <td>Reviews (7207)</td>\n",
       "    </tr>\n",
       "    <tr>\n",
       "      <th>4</th>\n",
       "      <td>-</td>\n",
       "      <td>4.8</td>\n",
       "      <td>Reviews (4902)</td>\n",
       "    </tr>\n",
       "    <tr>\n",
       "      <th>...</th>\n",
       "      <td>...</td>\n",
       "      <td>...</td>\n",
       "      <td>...</td>\n",
       "    </tr>\n",
       "    <tr>\n",
       "      <th>95</th>\n",
       "      <td>-</td>\n",
       "      <td>4.3</td>\n",
       "      <td>Reviews (6)</td>\n",
       "    </tr>\n",
       "    <tr>\n",
       "      <th>96</th>\n",
       "      <td>-</td>\n",
       "      <td>4.5</td>\n",
       "      <td>Reviews (619)</td>\n",
       "    </tr>\n",
       "    <tr>\n",
       "      <th>97</th>\n",
       "      <td>-</td>\n",
       "      <td>4.7</td>\n",
       "      <td>Reviews (79)</td>\n",
       "    </tr>\n",
       "    <tr>\n",
       "      <th>98</th>\n",
       "      <td>-</td>\n",
       "      <td>4.2</td>\n",
       "      <td>Reviews (80)</td>\n",
       "    </tr>\n",
       "    <tr>\n",
       "      <th>99</th>\n",
       "      <td>-</td>\n",
       "      <td>4.3</td>\n",
       "      <td>Reviews (3)</td>\n",
       "    </tr>\n",
       "  </tbody>\n",
       "</table>\n",
       "<p>100 rows × 3 columns</p>\n",
       "</div>"
      ],
      "text/plain": [
       "   Sizes No. of stars  No. of reviews\n",
       "0      3          4.8  Reviews (4901)\n",
       "1      -          4.6    Reviews (82)\n",
       "2      -          4.7  Reviews (7207)\n",
       "3      -          4.7  Reviews (7207)\n",
       "4      -          4.8  Reviews (4902)\n",
       "..   ...          ...             ...\n",
       "95     -          4.3     Reviews (6)\n",
       "96     -          4.5   Reviews (619)\n",
       "97     -          4.7    Reviews (79)\n",
       "98     -          4.2    Reviews (80)\n",
       "99     -          4.3     Reviews (3)\n",
       "\n",
       "[100 rows x 3 columns]"
      ]
     },
     "execution_count": 502,
     "metadata": {},
     "output_type": "execute_result"
    }
   ],
   "source": [
    " df4=pd.DataFrame({'Sizes':sizes_adidas[:100],'No. of stars':stars_adidas[:100],'No. of reviews':reviews_adidas[:100]})\n",
    "df4"
   ]
  },
  {
   "cell_type": "code",
   "execution_count": null,
   "id": "f4edcb32",
   "metadata": {},
   "outputs": [],
   "source": []
  },
  {
   "cell_type": "code",
   "execution_count": null,
   "id": "dfd5379c",
   "metadata": {},
   "outputs": [],
   "source": []
  },
  {
   "cell_type": "code",
   "execution_count": 587,
   "id": "da4b9946",
   "metadata": {},
   "outputs": [],
   "source": [
    "driver=webdriver.Chrome()\n",
    "driver.get('https://us.puma.com/us/en')"
   ]
  },
  {
   "cell_type": "code",
   "execution_count": 588,
   "id": "c298f1a6",
   "metadata": {},
   "outputs": [],
   "source": [
    "footwear=driver.find_element(By.XPATH,'/html/body/div[1]/div[1]/div/nav/div/div/button[2]/div[1]')\n",
    "footwear.click()"
   ]
  },
  {
   "cell_type": "code",
   "execution_count": 589,
   "id": "328493c9",
   "metadata": {},
   "outputs": [],
   "source": [
    "shoe=driver.find_element(By.XPATH,'/html/body/div[1]/div[1]/div/nav/div/div/div[1]/div[2]/div[1]/div/form/input')\n",
    "shoe.send_keys('shoe')"
   ]
  },
  {
   "cell_type": "code",
   "execution_count": 590,
   "id": "c0a0d466",
   "metadata": {},
   "outputs": [],
   "source": [
    "srch=driver.find_element(By.XPATH,'/html/body/div[2]/div[1]/div/nav/div/div/div[1]/div[2]/div[1]/div/form/div/button[2]')\n",
    "srch.click()"
   ]
  },
  {
   "cell_type": "code",
   "execution_count": 591,
   "id": "c703e602",
   "metadata": {},
   "outputs": [],
   "source": [
    "India=driver.find_element(By.XPATH,'/html/body/div[2]/div[1]/main/section/div[2]/a/button').click()"
   ]
  },
  {
   "cell_type": "code",
   "execution_count": 592,
   "id": "46578233",
   "metadata": {},
   "outputs": [],
   "source": [
    "footwear=driver.find_element(By.XPATH,'/html/body/div[1]/div[1]/div/nav/div/div/button[2]/div[1]')\n",
    "footwear.click()"
   ]
  },
  {
   "cell_type": "code",
   "execution_count": 593,
   "id": "6818f468",
   "metadata": {},
   "outputs": [],
   "source": [
    "shoe=driver.find_element(By.XPATH,'/html/body/div[1]/div[1]/div/nav/div/div/div[1]/div[2]/div[1]/div/form/input')\n",
    "shoe.send_keys('shoe')"
   ]
  },
  {
   "cell_type": "code",
   "execution_count": 594,
   "id": "64b5e8a8",
   "metadata": {},
   "outputs": [],
   "source": [
    "srch=driver.find_element(By.XPATH,'/html/body/div[2]/div[1]/div/nav/div/div/div[1]/div[2]/div[1]/div/form/div/button[2]')\n",
    "srch.click()"
   ]
  },
  {
   "cell_type": "code",
   "execution_count": 595,
   "id": "67c1e6d9",
   "metadata": {},
   "outputs": [],
   "source": [
    "for _ in range(300):\n",
    "    driver.execute_script(\"window.scrollBy(0,300)\")"
   ]
  },
  {
   "cell_type": "code",
   "execution_count": 315,
   "id": "ff199234",
   "metadata": {},
   "outputs": [],
   "source": [
    "title_puma = []\n",
    "categories = []\n",
    "colors_puma = []"
   ]
  },
  {
   "cell_type": "code",
   "execution_count": 316,
   "id": "8413a2d7",
   "metadata": {},
   "outputs": [],
   "source": [
    "title_pumas=driver.find_elements(By.XPATH,'//h3[@class=\"w-full mobile:text-sm mobile:pr-0 font-bold text-base pr-5 line-clamp-2\"]')\n",
    "for i in title_pumas[0:100]:\n",
    "    title=i.text\n",
    "    title_puma.append(title)\n",
    "    \n",
    "for title in title_puma:\n",
    "    if \"Men's\" in title or \"Unisex\" in title:\n",
    "        categories.append('men')\n",
    "    elif \"Women's\" in title:\n",
    "        categories.append('women')\n",
    "    else:\n",
    "        categories.append('unknown')\n",
    "        \n",
    "color_pumas=driver.find_elements(By.XPATH,'//span[@class=\"group-hover:hidden group-focus-within:hidden text-puma-black-300 uppercase text-xs whitespace-nowrap\"]')\n",
    "for i in color_pumas[0:100]:\n",
    "    color=i.text\n",
    "    colors_puma.append(color)"
   ]
  },
  {
   "cell_type": "code",
   "execution_count": 596,
   "id": "6105d86a",
   "metadata": {},
   "outputs": [],
   "source": [
    "price_puma=[]"
   ]
  },
  {
   "cell_type": "code",
   "execution_count": 605,
   "id": "14f143c0",
   "metadata": {},
   "outputs": [],
   "source": [
    "Price=driver.find_elements(By.XPATH,'//span[@class=\"whitespace-nowrap text-base text-puma-red font-bold\"]')\n",
    "for i in Price[0:100]:\n",
    "    if i.text is None :\n",
    "        price_puma.append(\"--\") \n",
    "    else:\n",
    "        price_puma.append(i.text)"
   ]
  },
  {
   "cell_type": "code",
   "execution_count": 606,
   "id": "3f5d8b7a",
   "metadata": {},
   "outputs": [
    {
     "data": {
      "text/plain": [
       "['₹3,299',\n",
       " '₹2,349',\n",
       " '₹2,359',\n",
       " '₹2,249',\n",
       " '₹2,499',\n",
       " '₹2,079',\n",
       " '₹2,099',\n",
       " '₹1,929',\n",
       " '₹2,109',\n",
       " '₹4,799',\n",
       " '₹1,919',\n",
       " '₹3,599',\n",
       " '₹2,639',\n",
       " '₹5,199',\n",
       " '₹2,099',\n",
       " '₹2,359',\n",
       " '₹2,499',\n",
       " '₹2,499',\n",
       " '₹2,249',\n",
       " '₹5,519',\n",
       " '₹1,719',\n",
       " '₹4,799',\n",
       " '₹3,499',\n",
       " '₹4,499',\n",
       " '₹5,459',\n",
       " '₹3,519',\n",
       " '₹3,999',\n",
       " '₹5,199',\n",
       " '₹4,499',\n",
       " '₹4,499',\n",
       " '₹3,249',\n",
       " '₹1,919',\n",
       " '₹5,199',\n",
       " '₹2,499',\n",
       " '₹3,849',\n",
       " '₹2,749',\n",
       " '₹5,199',\n",
       " '₹2,399',\n",
       " '₹3,599',\n",
       " '₹1,719',\n",
       " '₹5,499',\n",
       " '₹1,999',\n",
       " '₹5,399',\n",
       " '₹2,079',\n",
       " '₹6,599',\n",
       " '₹6,599',\n",
       " '₹2,199',\n",
       " '₹5,399',\n",
       " '₹2,199',\n",
       " '₹5,499',\n",
       " '₹11,199',\n",
       " '₹2,249',\n",
       " '₹2,249',\n",
       " '₹2,109',\n",
       " '₹3,599',\n",
       " '₹5,999',\n",
       " '₹1,929',\n",
       " '₹1,929',\n",
       " '₹5,999',\n",
       " '₹3,049',\n",
       " '₹5,199',\n",
       " '₹4,399',\n",
       " '₹4,999',\n",
       " '₹5,999',\n",
       " '₹5,199',\n",
       " '₹4,159',\n",
       " '₹2,099',\n",
       " '₹3,899',\n",
       " '₹4,499',\n",
       " '₹4,999',\n",
       " '₹2,579',\n",
       " '₹2,339',\n",
       " '₹6,749',\n",
       " '₹3,299',\n",
       " '₹2,019',\n",
       " '₹2,019',\n",
       " '₹4,799',\n",
       " '₹4,119',\n",
       " '₹1,999',\n",
       " '₹2,599',\n",
       " '₹3,369',\n",
       " '₹2,019',\n",
       " '₹2,099',\n",
       " '₹2,499',\n",
       " '₹3,999',\n",
       " '₹3,599',\n",
       " '₹1,929',\n",
       " '₹3,599',\n",
       " '₹2,399',\n",
       " '₹3,049',\n",
       " '₹11,199',\n",
       " '₹3,299',\n",
       " '₹3,299',\n",
       " '₹2,349',\n",
       " '₹2,359',\n",
       " '₹2,249',\n",
       " '₹2,499',\n",
       " '₹2,079',\n",
       " '₹2,099',\n",
       " '₹1,929']"
      ]
     },
     "execution_count": 606,
     "metadata": {},
     "output_type": "execute_result"
    }
   ],
   "source": [
    "Price_puma=price_puma[:100]\n",
    "Price_puma"
   ]
  },
  {
   "cell_type": "code",
   "execution_count": 607,
   "id": "0defa065",
   "metadata": {},
   "outputs": [
    {
     "data": {
      "text/plain": [
       "100"
      ]
     },
     "execution_count": 607,
     "metadata": {},
     "output_type": "execute_result"
    }
   ],
   "source": [
    "len(Price_puma)"
   ]
  },
  {
   "cell_type": "code",
   "execution_count": null,
   "id": "011ea69d",
   "metadata": {},
   "outputs": [],
   "source": []
  },
  {
   "cell_type": "code",
   "execution_count": null,
   "id": "bbca83ab",
   "metadata": {},
   "outputs": [],
   "source": []
  },
  {
   "cell_type": "code",
   "execution_count": 608,
   "id": "4a704306",
   "metadata": {},
   "outputs": [
    {
     "data": {
      "text/html": [
       "<div>\n",
       "<style scoped>\n",
       "    .dataframe tbody tr th:only-of-type {\n",
       "        vertical-align: middle;\n",
       "    }\n",
       "\n",
       "    .dataframe tbody tr th {\n",
       "        vertical-align: top;\n",
       "    }\n",
       "\n",
       "    .dataframe thead th {\n",
       "        text-align: right;\n",
       "    }\n",
       "</style>\n",
       "<table border=\"1\" class=\"dataframe\">\n",
       "  <thead>\n",
       "    <tr style=\"text-align: right;\">\n",
       "      <th></th>\n",
       "      <th>ShoeName</th>\n",
       "      <th>Category(Men/Women)</th>\n",
       "      <th>no of colors</th>\n",
       "      <th>Price in Rs</th>\n",
       "    </tr>\n",
       "  </thead>\n",
       "  <tbody>\n",
       "    <tr>\n",
       "      <th>0</th>\n",
       "      <td>Pacer Future Allure Women's Sneakers\\nFuture P...</td>\n",
       "      <td>women</td>\n",
       "      <td>3 COLORS</td>\n",
       "      <td>₹3,299</td>\n",
       "    </tr>\n",
       "    <tr>\n",
       "      <th>1</th>\n",
       "      <td>Supertec Zero Men's Sneakers\\nPeacoat-Puma Whi...</td>\n",
       "      <td>men</td>\n",
       "      <td>3 COLORS</td>\n",
       "      <td>₹2,349</td>\n",
       "    </tr>\n",
       "    <tr>\n",
       "      <th>2</th>\n",
       "      <td>Cassia Women's Sneakers\\nPuma White-Puma White...</td>\n",
       "      <td>women</td>\n",
       "      <td>2 COLORS</td>\n",
       "      <td>₹2,359</td>\n",
       "    </tr>\n",
       "    <tr>\n",
       "      <th>3</th>\n",
       "      <td>Flair 2 Unisex Running Shoes\\nAsphalt-Puma White</td>\n",
       "      <td>men</td>\n",
       "      <td>3 COLORS</td>\n",
       "      <td>₹2,249</td>\n",
       "    </tr>\n",
       "    <tr>\n",
       "      <th>4</th>\n",
       "      <td>Redon Move Unisex Sneakers\\nblack-white-high r...</td>\n",
       "      <td>men</td>\n",
       "      <td>2 COLORS</td>\n",
       "      <td>₹2,499</td>\n",
       "    </tr>\n",
       "    <tr>\n",
       "      <th>...</th>\n",
       "      <td>...</td>\n",
       "      <td>...</td>\n",
       "      <td>...</td>\n",
       "      <td>...</td>\n",
       "    </tr>\n",
       "    <tr>\n",
       "      <th>95</th>\n",
       "      <td>PUMA Spike 22.1 Unisex Cricket Shoes\\nPUMA Whi...</td>\n",
       "      <td>men</td>\n",
       "      <td>3 COLORS</td>\n",
       "      <td>₹2,249</td>\n",
       "    </tr>\n",
       "    <tr>\n",
       "      <th>96</th>\n",
       "      <td>Puma Shuffle RES Unisex Shoes\\nPUMA Black-Dark...</td>\n",
       "      <td>men</td>\n",
       "      <td>4 COLORS</td>\n",
       "      <td>₹2,499</td>\n",
       "    </tr>\n",
       "    <tr>\n",
       "      <th>97</th>\n",
       "      <td>PUMA x one8 22 FH Rubber Unisex Cricket Shoes\\...</td>\n",
       "      <td>men</td>\n",
       "      <td>3 COLORS</td>\n",
       "      <td>₹2,079</td>\n",
       "    </tr>\n",
       "    <tr>\n",
       "      <th>98</th>\n",
       "      <td>Puma Foam Stride Men's Running Shoes\\nFeather ...</td>\n",
       "      <td>men</td>\n",
       "      <td>4 COLORS</td>\n",
       "      <td>₹2,099</td>\n",
       "    </tr>\n",
       "    <tr>\n",
       "      <th>99</th>\n",
       "      <td>Puma Foam Stride Men's Running Shoes\\nPUMA Bla...</td>\n",
       "      <td>men</td>\n",
       "      <td>5 COLORS</td>\n",
       "      <td>₹1,929</td>\n",
       "    </tr>\n",
       "  </tbody>\n",
       "</table>\n",
       "<p>100 rows × 4 columns</p>\n",
       "</div>"
      ],
      "text/plain": [
       "                                             ShoeName Category(Men/Women)  \\\n",
       "0   Pacer Future Allure Women's Sneakers\\nFuture P...               women   \n",
       "1   Supertec Zero Men's Sneakers\\nPeacoat-Puma Whi...                 men   \n",
       "2   Cassia Women's Sneakers\\nPuma White-Puma White...               women   \n",
       "3    Flair 2 Unisex Running Shoes\\nAsphalt-Puma White                 men   \n",
       "4   Redon Move Unisex Sneakers\\nblack-white-high r...                 men   \n",
       "..                                                ...                 ...   \n",
       "95  PUMA Spike 22.1 Unisex Cricket Shoes\\nPUMA Whi...                 men   \n",
       "96  Puma Shuffle RES Unisex Shoes\\nPUMA Black-Dark...                 men   \n",
       "97  PUMA x one8 22 FH Rubber Unisex Cricket Shoes\\...                 men   \n",
       "98  Puma Foam Stride Men's Running Shoes\\nFeather ...                 men   \n",
       "99  Puma Foam Stride Men's Running Shoes\\nPUMA Bla...                 men   \n",
       "\n",
       "   no of colors Price in Rs  \n",
       "0      3 COLORS      ₹3,299  \n",
       "1      3 COLORS      ₹2,349  \n",
       "2      2 COLORS      ₹2,359  \n",
       "3      3 COLORS      ₹2,249  \n",
       "4      2 COLORS      ₹2,499  \n",
       "..          ...         ...  \n",
       "95     3 COLORS      ₹2,249  \n",
       "96     4 COLORS      ₹2,499  \n",
       "97     3 COLORS      ₹2,079  \n",
       "98     4 COLORS      ₹2,099  \n",
       "99     5 COLORS      ₹1,929  \n",
       "\n",
       "[100 rows x 4 columns]"
      ]
     },
     "execution_count": 608,
     "metadata": {},
     "output_type": "execute_result"
    }
   ],
   "source": [
    "dfn = pd.DataFrame({'ShoeName':title_puma,'Category(Men/Women)':categories,'no of colors':colors_puma,'Price in Rs':Price_puma})\n",
    "dfn"
   ]
  },
  {
   "cell_type": "code",
   "execution_count": 353,
   "id": "c8352862",
   "metadata": {},
   "outputs": [],
   "source": [
    "sizes_puma=[]\n",
    "style_puma=[]"
   ]
  },
  {
   "cell_type": "code",
   "execution_count": 347,
   "id": "f6a40503",
   "metadata": {},
   "outputs": [],
   "source": [
    "product_urls = []\n",
    "urls = driver.find_elements(By.XPATH,'//a[@data-test-id=\"product-list-item-link\"]')\n",
    "for url in urls[0:100]:\n",
    "    product_urls.append(url.get_attribute('href'))"
   ]
  },
  {
   "cell_type": "code",
   "execution_count": 349,
   "id": "c2647021",
   "metadata": {},
   "outputs": [
    {
     "data": {
      "text/plain": [
       "100"
      ]
     },
     "execution_count": 349,
     "metadata": {},
     "output_type": "execute_result"
    }
   ],
   "source": [
    "len(product_urls)"
   ]
  },
  {
   "cell_type": "code",
   "execution_count": 354,
   "id": "97d047cf",
   "metadata": {},
   "outputs": [],
   "source": [
    "for url in product_urls:\n",
    "    driver.get(url)\n",
    "    time.sleep(2)\n",
    "        \n",
    "    try:\n",
    "        sizespuma=driver.find_element(By.XPATH,'//span[@class=\"text-sm\"]')\n",
    "        sizes_puma.append(sizespuma.text)\n",
    "    except NoSuchElementException:\n",
    "        sizes_puma.append('-')\n",
    "        \n",
    "    try:\n",
    "        stylepuma=driver.find_element(By.XPATH,'//ul[@class=\"tw-1h4nwdw tw-r7dbwo tw-xwzea6 tw-p9uz4a list-disc list-inside\"]/li')\n",
    "        style_puma.append(stylepuma.text)\n",
    "    except NoSuchElementException:\n",
    "        style_puma.append('-')\n",
    "        "
   ]
  },
  {
   "cell_type": "code",
   "execution_count": 504,
   "id": "63532521",
   "metadata": {},
   "outputs": [
    {
     "data": {
      "text/html": [
       "<div>\n",
       "<style scoped>\n",
       "    .dataframe tbody tr th:only-of-type {\n",
       "        vertical-align: middle;\n",
       "    }\n",
       "\n",
       "    .dataframe tbody tr th {\n",
       "        vertical-align: top;\n",
       "    }\n",
       "\n",
       "    .dataframe thead th {\n",
       "        text-align: right;\n",
       "    }\n",
       "</style>\n",
       "<table border=\"1\" class=\"dataframe\">\n",
       "  <thead>\n",
       "    <tr style=\"text-align: right;\">\n",
       "      <th></th>\n",
       "      <th>Sizes</th>\n",
       "      <th>Style_code</th>\n",
       "    </tr>\n",
       "  </thead>\n",
       "  <tbody>\n",
       "    <tr>\n",
       "      <th>0</th>\n",
       "      <td>UK 8</td>\n",
       "      <td>-</td>\n",
       "    </tr>\n",
       "    <tr>\n",
       "      <th>1</th>\n",
       "      <td>UK 11</td>\n",
       "      <td>-</td>\n",
       "    </tr>\n",
       "    <tr>\n",
       "      <th>2</th>\n",
       "      <td>UK 8</td>\n",
       "      <td>-</td>\n",
       "    </tr>\n",
       "    <tr>\n",
       "      <th>3</th>\n",
       "      <td>UK 6</td>\n",
       "      <td>-</td>\n",
       "    </tr>\n",
       "    <tr>\n",
       "      <th>4</th>\n",
       "      <td>UK 6</td>\n",
       "      <td>-</td>\n",
       "    </tr>\n",
       "    <tr>\n",
       "      <th>...</th>\n",
       "      <td>...</td>\n",
       "      <td>...</td>\n",
       "    </tr>\n",
       "    <tr>\n",
       "      <th>95</th>\n",
       "      <td>UK 6</td>\n",
       "      <td>-</td>\n",
       "    </tr>\n",
       "    <tr>\n",
       "      <th>96</th>\n",
       "      <td>UK 6</td>\n",
       "      <td>-</td>\n",
       "    </tr>\n",
       "    <tr>\n",
       "      <th>97</th>\n",
       "      <td>UK 6</td>\n",
       "      <td>-</td>\n",
       "    </tr>\n",
       "    <tr>\n",
       "      <th>98</th>\n",
       "      <td>UK 6</td>\n",
       "      <td>-</td>\n",
       "    </tr>\n",
       "    <tr>\n",
       "      <th>99</th>\n",
       "      <td>UK 6</td>\n",
       "      <td>-</td>\n",
       "    </tr>\n",
       "  </tbody>\n",
       "</table>\n",
       "<p>100 rows × 2 columns</p>\n",
       "</div>"
      ],
      "text/plain": [
       "    Sizes Style_code\n",
       "0    UK 8          -\n",
       "1   UK 11          -\n",
       "2    UK 8          -\n",
       "3    UK 6          -\n",
       "4    UK 6          -\n",
       "..    ...        ...\n",
       "95   UK 6          -\n",
       "96   UK 6          -\n",
       "97   UK 6          -\n",
       "98   UK 6          -\n",
       "99   UK 6          -\n",
       "\n",
       "[100 rows x 2 columns]"
      ]
     },
     "execution_count": 504,
     "metadata": {},
     "output_type": "execute_result"
    }
   ],
   "source": [
    "dfm=pd.DataFrame({'Sizes':sizes_puma,'Style_code':style_puma})\n",
    "dfm"
   ]
  },
  {
   "cell_type": "code",
   "execution_count": null,
   "id": "bc4e9b3f",
   "metadata": {},
   "outputs": [],
   "source": []
  },
  {
   "cell_type": "code",
   "execution_count": null,
   "id": "5979fc80",
   "metadata": {},
   "outputs": [],
   "source": []
  },
  {
   "cell_type": "code",
   "execution_count": 427,
   "id": "8f8792b5",
   "metadata": {},
   "outputs": [],
   "source": [
    "driver=webdriver.Chrome()\n",
    "driver.get('https://www.woodlandworldwide.com/')\n",
    "time.sleep(10)"
   ]
  },
  {
   "cell_type": "code",
   "execution_count": 428,
   "id": "2a892c63",
   "metadata": {},
   "outputs": [],
   "source": [
    "footwear=driver.find_element(By.XPATH,'/html/body/div[1]/header/nav/div[2]/div/div[2]/form/div/div/input')\n",
    "footwear.send_keys('shoes')"
   ]
  },
  {
   "cell_type": "code",
   "execution_count": 430,
   "id": "ade8c045",
   "metadata": {},
   "outputs": [],
   "source": [
    "search=driver.find_element(By.XPATH,'/html/body/div[1]/header/nav/div[2]/div/div[2]/form/div/div/button')\n",
    "search.click()"
   ]
  },
  {
   "cell_type": "code",
   "execution_count": 431,
   "id": "3a4ae711",
   "metadata": {},
   "outputs": [],
   "source": [
    "shoe=driver.find_element(By.XPATH,'/html/body/div[1]/footer/div/div[2]/div[1]/div/div[1]/a[2]')\n",
    "shoe.click()"
   ]
  },
  {
   "cell_type": "code",
   "execution_count": 432,
   "id": "b613f112",
   "metadata": {},
   "outputs": [],
   "source": [
    "wood_name=[]\n",
    "wood_category=[]\n",
    "wood_colors=[]\n",
    "wood_price=[]"
   ]
  },
  {
   "cell_type": "code",
   "execution_count": 433,
   "id": "2b9724d6",
   "metadata": {},
   "outputs": [],
   "source": [
    "for _ in range(300):\n",
    "    driver.execute_script(\"window.scrollBy(0,300)\")"
   ]
  },
  {
   "cell_type": "code",
   "execution_count": 445,
   "id": "3b8e4afc",
   "metadata": {},
   "outputs": [],
   "source": [
    "Name=driver.find_elements(By.XPATH,'//p[@class=\"productcardplp_productname__F8lks\"]')\n",
    "for i in Name[0:100]:\n",
    "    if i.text is None :\n",
    "        wood_name.append(\"--\") \n",
    "    else:\n",
    "        wood_name.append(i.text)\n",
    "        \n",
    "Price=driver.find_elements(By.XPATH,'//p[@class=\"productcardplp_productprice__jdlz6\"]/span')\n",
    "for i in Price[0:100]:\n",
    "    if i.text is None :\n",
    "        wood_price.append(\"--\") \n",
    "    else:\n",
    "        wood_price.append(i.text)"
   ]
  },
  {
   "cell_type": "code",
   "execution_count": 446,
   "id": "63ed4aa5",
   "metadata": {},
   "outputs": [
    {
     "data": {
      "text/plain": [
       "(200, 200)"
      ]
     },
     "execution_count": 446,
     "metadata": {},
     "output_type": "execute_result"
    }
   ],
   "source": [
    "len(wood_name),len(wood_price)"
   ]
  },
  {
   "cell_type": "code",
   "execution_count": 447,
   "id": "cc62a3d6",
   "metadata": {},
   "outputs": [],
   "source": [
    "Wood_name=wood_name[:100]\n",
    "Wood_price=wood_price[:100]"
   ]
  },
  {
   "cell_type": "code",
   "execution_count": 448,
   "id": "e377d0c0",
   "metadata": {},
   "outputs": [],
   "source": [
    "ctgry=[]"
   ]
  },
  {
   "cell_type": "code",
   "execution_count": 449,
   "id": "f2edea95",
   "metadata": {},
   "outputs": [],
   "source": [
    "for title in wood_name:\n",
    "    if \"Men's\" in title or \"Unisex\" in title:\n",
    "        ctgry.append('men')\n",
    "    elif \"Women's\" in title:\n",
    "        ctgry.append('women')\n",
    "    else:\n",
    "        ctgry.append('unknown')"
   ]
  },
  {
   "cell_type": "code",
   "execution_count": 450,
   "id": "12faeef4",
   "metadata": {},
   "outputs": [
    {
     "name": "stdout",
     "output_type": "stream",
     "text": [
      "Extracted Words: ['Men', 'Men', 'Men', 'Men', 'Men', 'Men', 'men', 'men', 'men', 'Men', 'Men', 'unknown', 'Men', 'Men', 'Men', 'Men', 'unknown', 'Men', 'men', 'unknown', 'Men', 'unknown', 'unknown', 'men', 'Men', 'men', 'Men', 'unknown', 'unknown', 'men', 'men', 'men', 'unknown', 'men', 'Men', 'men', 'unknown', 'men', 'men', 'unknown', 'men', 'Men', 'unknown', 'unknown', 'unknown', 'men', 'men', 'men', 'men', 'men', 'Men', 'men', 'men', 'men', 'men', 'men', 'unknown', 'men', 'unknown', 'men', 'unknown', 'men', 'men', 'men', 'Men', 'Men', 'Men', 'unknown', 'Men', 'men', 'unknown', 'Men', 'Men', 'Men', 'men', 'Men', 'men', 'Men', 'Men', 'Men', 'men', 'unknown', 'men', 'Men', 'Men', 'men', 'men', 'men', 'men', 'men', 'men', 'men', 'men', 'Men', 'unknown', 'men', 'Men', 'unknown', 'Men', 'men', 'Men', 'Men', 'Men', 'Men', 'Men', 'Men', 'men', 'men', 'men', 'Men', 'Men', 'unknown', 'Men', 'Men', 'Men', 'Men', 'unknown', 'Men', 'men', 'unknown', 'Men', 'unknown', 'unknown', 'men', 'Men', 'men', 'Men', 'unknown', 'unknown', 'men', 'men', 'men', 'unknown', 'men', 'Men', 'men', 'unknown', 'men', 'men', 'unknown', 'men', 'Men', 'unknown', 'unknown', 'unknown', 'men', 'men', 'men', 'men', 'men', 'Men', 'men', 'men', 'men', 'men', 'men', 'unknown', 'men', 'unknown', 'men', 'unknown', 'men', 'men', 'men', 'Men', 'Men', 'Men', 'unknown', 'Men', 'men', 'unknown', 'Men', 'Men', 'Men', 'men', 'Men', 'men', 'Men', 'Men', 'Men', 'men', 'unknown', 'men', 'Men', 'Men', 'men', 'men', 'men', 'men', 'men', 'men', 'men', 'men', 'Men', 'unknown', 'men', 'Men', 'unknown', 'Men', 'men']\n"
     ]
    }
   ],
   "source": [
    "import re\n",
    "\n",
    "extracted_words = []\n",
    "\n",
    "for_pattern = re.compile(r'for\\s+(\\w+)')\n",
    "\n",
    "for title in wood_name:\n",
    "    match = for_pattern.search(title)\n",
    "    if match:\n",
    "        extracted_word = match.group(1)\n",
    "        extracted_words.append(extracted_word)\n",
    "    else:\n",
    "        extracted_words.append('unknown')\n",
    "\n",
    "print(\"Extracted Words:\", extracted_words)"
   ]
  },
  {
   "cell_type": "code",
   "execution_count": 451,
   "id": "a18e6098",
   "metadata": {},
   "outputs": [],
   "source": [
    "ctgry=extracted_words"
   ]
  },
  {
   "cell_type": "code",
   "execution_count": 452,
   "id": "ae877421",
   "metadata": {},
   "outputs": [
    {
     "data": {
      "text/plain": [
       "100"
      ]
     },
     "execution_count": 452,
     "metadata": {},
     "output_type": "execute_result"
    }
   ],
   "source": [
    "Ctgry=ctgry[:100]\n",
    "len(Ctgry)"
   ]
  },
  {
   "cell_type": "code",
   "execution_count": 453,
   "id": "f85dfcea",
   "metadata": {},
   "outputs": [],
   "source": [
    "page_url4 = []\n",
    "urls = driver.find_elements(By.XPATH,'//a[@class=\"MuiTypography-root MuiTypography-inherit MuiLink-root MuiLink-underlineAlways css-15kjgm\"]')\n",
    "for url in urls[0:300]:\n",
    "    page_url4.append(url.get_attribute('href'))"
   ]
  },
  {
   "cell_type": "code",
   "execution_count": 454,
   "id": "3b753afb",
   "metadata": {},
   "outputs": [
    {
     "data": {
      "text/plain": [
       "100"
      ]
     },
     "execution_count": 454,
     "metadata": {},
     "output_type": "execute_result"
    }
   ],
   "source": [
    "Page_url4=page_url4[:100]\n",
    "len(Page_url4)"
   ]
  },
  {
   "cell_type": "code",
   "execution_count": 456,
   "id": "66609bad",
   "metadata": {},
   "outputs": [],
   "source": [
    "avlb_sizes=[]\n",
    "wood_colors=[]"
   ]
  },
  {
   "cell_type": "code",
   "execution_count": 457,
   "id": "989ad2b5",
   "metadata": {},
   "outputs": [],
   "source": [
    "for i in page_url4:\n",
    "    driver.get(i)\n",
    "    time.sleep(3)\n",
    "    \n",
    "    sizes=driver.find_elements(By.XPATH,'//button[@class=\"sizepicker_option__OGKzO \"]//div')\n",
    "for i in sizes:\n",
    "    if i.text is None :\n",
    "        avlb_sizes.append(\"--\") \n",
    "    else:\n",
    "        avlb_sizes.append(i.text)\n",
    "        \n",
    "         \n",
    "    color=driver.find_elements(By.XPATH,'//h5[@class=\"colorpicker_colorname__sRdk8\"]')\n",
    "for i in sizes:\n",
    "    if i.text is None :\n",
    "        wood_colors.append(\"--\") \n",
    "    else:\n",
    "        wood_colors.append(i.text)"
   ]
  },
  {
   "cell_type": "code",
   "execution_count": null,
   "id": "79c0df55",
   "metadata": {},
   "outputs": [],
   "source": []
  },
  {
   "cell_type": "code",
   "execution_count": null,
   "id": "91cf8cc5",
   "metadata": {},
   "outputs": [],
   "source": []
  },
  {
   "cell_type": "code",
   "execution_count": null,
   "id": "fdd9b7ff",
   "metadata": {},
   "outputs": [],
   "source": []
  },
  {
   "cell_type": "code",
   "execution_count": 507,
   "id": "ba2cd05f",
   "metadata": {},
   "outputs": [
    {
     "data": {
      "text/html": [
       "<div>\n",
       "<style scoped>\n",
       "    .dataframe tbody tr th:only-of-type {\n",
       "        vertical-align: middle;\n",
       "    }\n",
       "\n",
       "    .dataframe tbody tr th {\n",
       "        vertical-align: top;\n",
       "    }\n",
       "\n",
       "    .dataframe thead th {\n",
       "        text-align: right;\n",
       "    }\n",
       "</style>\n",
       "<table border=\"1\" class=\"dataframe\">\n",
       "  <thead>\n",
       "    <tr style=\"text-align: right;\">\n",
       "      <th></th>\n",
       "      <th>ShoeName</th>\n",
       "      <th>Category(Men/Women)</th>\n",
       "      <th>no of colors</th>\n",
       "      <th>Price in Rs</th>\n",
       "    </tr>\n",
       "  </thead>\n",
       "  <tbody>\n",
       "    <tr>\n",
       "      <th>0</th>\n",
       "      <td>Black Slip-on Shoe for Men</td>\n",
       "      <td>Men</td>\n",
       "      <td>black</td>\n",
       "      <td>₹2095</td>\n",
       "    </tr>\n",
       "    <tr>\n",
       "      <th>1</th>\n",
       "      <td>Navy Slip-on Shoe for Men</td>\n",
       "      <td>Men</td>\n",
       "      <td>navy</td>\n",
       "      <td>₹2995</td>\n",
       "    </tr>\n",
       "    <tr>\n",
       "      <th>2</th>\n",
       "      <td>White Sneakers for Men</td>\n",
       "      <td>Men</td>\n",
       "      <td>grey</td>\n",
       "      <td>₹2495</td>\n",
       "    </tr>\n",
       "    <tr>\n",
       "      <th>3</th>\n",
       "      <td>Navy Sports Shoe for Men</td>\n",
       "      <td>Men</td>\n",
       "      <td>blue</td>\n",
       "      <td>₹2495</td>\n",
       "    </tr>\n",
       "    <tr>\n",
       "      <th>4</th>\n",
       "      <td>Black Sneaker for Men</td>\n",
       "      <td>Men</td>\n",
       "      <td>white</td>\n",
       "      <td>₹2295</td>\n",
       "    </tr>\n",
       "    <tr>\n",
       "      <th>...</th>\n",
       "      <td>...</td>\n",
       "      <td>...</td>\n",
       "      <td>...</td>\n",
       "      <td>...</td>\n",
       "    </tr>\n",
       "    <tr>\n",
       "      <th>95</th>\n",
       "      <td>Grey sneakers for men</td>\n",
       "      <td>men</td>\n",
       "      <td>black</td>\n",
       "      <td>₹7995</td>\n",
       "    </tr>\n",
       "    <tr>\n",
       "      <th>96</th>\n",
       "      <td>Grey Sneakers for Men</td>\n",
       "      <td>Men</td>\n",
       "      <td>navy</td>\n",
       "      <td>₹4995</td>\n",
       "    </tr>\n",
       "    <tr>\n",
       "      <th>97</th>\n",
       "      <td>Black Slip-on shoes</td>\n",
       "      <td>unknown</td>\n",
       "      <td>grey</td>\n",
       "      <td>₹2995</td>\n",
       "    </tr>\n",
       "    <tr>\n",
       "      <th>98</th>\n",
       "      <td>Navy Sneaker for Men</td>\n",
       "      <td>Men</td>\n",
       "      <td>blue</td>\n",
       "      <td>₹3295</td>\n",
       "    </tr>\n",
       "    <tr>\n",
       "      <th>99</th>\n",
       "      <td>Navy Sneaker for men</td>\n",
       "      <td>men</td>\n",
       "      <td>white</td>\n",
       "      <td>₹1795</td>\n",
       "    </tr>\n",
       "  </tbody>\n",
       "</table>\n",
       "<p>100 rows × 4 columns</p>\n",
       "</div>"
      ],
      "text/plain": [
       "                      ShoeName Category(Men/Women) no of colors Price in Rs\n",
       "0   Black Slip-on Shoe for Men                 Men        black       ₹2095\n",
       "1    Navy Slip-on Shoe for Men                 Men         navy       ₹2995\n",
       "2       White Sneakers for Men                 Men         grey       ₹2495\n",
       "3     Navy Sports Shoe for Men                 Men         blue       ₹2495\n",
       "4        Black Sneaker for Men                 Men        white       ₹2295\n",
       "..                         ...                 ...          ...         ...\n",
       "95       Grey sneakers for men                 men        black       ₹7995\n",
       "96       Grey Sneakers for Men                 Men         navy       ₹4995\n",
       "97         Black Slip-on shoes             unknown         grey       ₹2995\n",
       "98        Navy Sneaker for Men                 Men         blue       ₹3295\n",
       "99        Navy Sneaker for men                 men        white       ₹1795\n",
       "\n",
       "[100 rows x 4 columns]"
      ]
     },
     "execution_count": 507,
     "metadata": {},
     "output_type": "execute_result"
    }
   ],
   "source": [
    "df5 = pd.DataFrame({'ShoeName':Wood_name[:100],'Category(Men/Women)':ctgry[:100],'no of colors':wood_colors[:100],'Price in Rs':Wood_price[:100]})\n",
    "df5"
   ]
  },
  {
   "cell_type": "code",
   "execution_count": 511,
   "id": "be209136",
   "metadata": {},
   "outputs": [
    {
     "data": {
      "text/html": [
       "<div>\n",
       "<style scoped>\n",
       "    .dataframe tbody tr th:only-of-type {\n",
       "        vertical-align: middle;\n",
       "    }\n",
       "\n",
       "    .dataframe tbody tr th {\n",
       "        vertical-align: top;\n",
       "    }\n",
       "\n",
       "    .dataframe thead th {\n",
       "        text-align: right;\n",
       "    }\n",
       "</style>\n",
       "<table border=\"1\" class=\"dataframe\">\n",
       "  <thead>\n",
       "    <tr style=\"text-align: right;\">\n",
       "      <th></th>\n",
       "      <th>Sizes</th>\n",
       "    </tr>\n",
       "  </thead>\n",
       "  <tbody>\n",
       "    <tr>\n",
       "      <th>0</th>\n",
       "      <td>38</td>\n",
       "    </tr>\n",
       "    <tr>\n",
       "      <th>1</th>\n",
       "      <td>39</td>\n",
       "    </tr>\n",
       "    <tr>\n",
       "      <th>2</th>\n",
       "      <td>40</td>\n",
       "    </tr>\n",
       "    <tr>\n",
       "      <th>3</th>\n",
       "      <td>41</td>\n",
       "    </tr>\n",
       "    <tr>\n",
       "      <th>4</th>\n",
       "      <td>42</td>\n",
       "    </tr>\n",
       "    <tr>\n",
       "      <th>...</th>\n",
       "      <td>...</td>\n",
       "    </tr>\n",
       "    <tr>\n",
       "      <th>95</th>\n",
       "      <td>43</td>\n",
       "    </tr>\n",
       "    <tr>\n",
       "      <th>96</th>\n",
       "      <td>38</td>\n",
       "    </tr>\n",
       "    <tr>\n",
       "      <th>97</th>\n",
       "      <td>39</td>\n",
       "    </tr>\n",
       "    <tr>\n",
       "      <th>98</th>\n",
       "      <td>40</td>\n",
       "    </tr>\n",
       "    <tr>\n",
       "      <th>99</th>\n",
       "      <td>41</td>\n",
       "    </tr>\n",
       "  </tbody>\n",
       "</table>\n",
       "<p>100 rows × 1 columns</p>\n",
       "</div>"
      ],
      "text/plain": [
       "    Sizes\n",
       "0      38\n",
       "1      39\n",
       "2      40\n",
       "3      41\n",
       "4      42\n",
       "..    ...\n",
       "95     43\n",
       "96     38\n",
       "97     39\n",
       "98     40\n",
       "99     41\n",
       "\n",
       "[100 rows x 1 columns]"
      ]
     },
     "execution_count": 511,
     "metadata": {},
     "output_type": "execute_result"
    }
   ],
   "source": [
    "df6=pd.DataFrame({'Sizes':avlb_sizes[:100]})\n",
    "\n",
    "df6"
   ]
  },
  {
   "cell_type": "code",
   "execution_count": 613,
   "id": "37771917",
   "metadata": {},
   "outputs": [
    {
     "name": "stdout",
     "output_type": "stream",
     "text": [
      "                         ShoeName Category(Men/Women) no of colors Price in Rs\n",
      "0        Nike Air Force 1 '07 LV8         Men's Shoes     1 Colour   10 795.00\n",
      "1         Nike Air Force 1 Shadow       Women's Shoes     1 Colour    9 295.00\n",
      "2          NikeCourt Legacy Suede         Men's Shoes     1 Colour    5 995.00\n",
      "3            Nike Air Force 1 '07         Men's Shoes    2 Colours   11 895.00\n",
      "4    NikeCourt Legacy Next Nature       Women's Shoes    4 Colours    5 695.00\n",
      "..                            ...                 ...          ...         ...\n",
      "395         Grey sneakers for men                 men        black       ₹7995\n",
      "396         Grey Sneakers for Men                 Men         navy       ₹4995\n",
      "397           Black Slip-on shoes             unknown         grey       ₹2995\n",
      "398          Navy Sneaker for Men                 Men         blue       ₹3295\n",
      "399          Navy Sneaker for men                 men        white       ₹1795\n",
      "\n",
      "[400 rows x 4 columns]\n"
     ]
    }
   ],
   "source": [
    "import pandas as pd\n",
    "\n",
    "df1 = pd.DataFrame({'ShoeName': shoename, 'Category(Men/Women)': shoetitle, 'no of colors': color_nike, 'Price in Rs': mrp_values_nike})\n",
    "df3 = pd.DataFrame({'ShoeName': title_adidas[:100], 'Category(Men/Women)': category_adidas[:100], 'no of colors': color_adidas[:100], 'Price in Rs': price_adidas})\n",
    "dfn = pd.DataFrame({'ShoeName': title_puma, 'Category(Men/Women)': categories, 'no of colors': colors_puma, 'Price in Rs': Price_puma})\n",
    "df5 = pd.DataFrame({'ShoeName': Wood_name[:100], 'Category(Men/Women)': ctgry[:100], 'no of colors': wood_colors[:100], 'Price in Rs': Wood_price[:100]})\n",
    "\n",
    "Table_1 = pd.concat([df1, df3, dfn, df5], ignore_index=True)\n",
    "\n",
    "print(Table_1)\n"
   ]
  },
  {
   "cell_type": "code",
   "execution_count": 614,
   "id": "66df9da1",
   "metadata": {},
   "outputs": [],
   "source": [
    "Table_1.to_csv('Table_1.csv', index=False)"
   ]
  },
  {
   "cell_type": "code",
   "execution_count": 575,
   "id": "cee09664",
   "metadata": {},
   "outputs": [
    {
     "name": "stdout",
     "output_type": "stream",
     "text": [
      "            Sizes No. of stars No. of reviews         Style_code\n",
      "0    UK 6 (EU 40)           --    Reviews (0)  Style: FJ4170-002\n",
      "1          UK 6.5           --    Reviews (0)  Style: DO7449-111\n",
      "2            UK 7           --    Reviews (2)  Style: DH0956-002\n",
      "3          UK 7.5           --    Reviews (0)  Style: FJ4146-100\n",
      "4            UK 8           --    Reviews (0)  Style: FZ4627-400\n",
      "..            ...          ...            ...                ...\n",
      "395            43          NaN            NaN                NaN\n",
      "396            38          NaN            NaN                NaN\n",
      "397            39          NaN            NaN                NaN\n",
      "398            40          NaN            NaN                NaN\n",
      "399            41          NaN            NaN                NaN\n",
      "\n",
      "[400 rows x 4 columns]\n"
     ]
    }
   ],
   "source": [
    "import pandas as pd\n",
    "Table2 = pd.concat([df2, df4, dfm, df6], ignore_index=True)\n",
    "print(Table2)\n"
   ]
  },
  {
   "cell_type": "code",
   "execution_count": 577,
   "id": "4cdb84b1",
   "metadata": {},
   "outputs": [],
   "source": [
    "Table2.to_csv('Table2.csv', index=False)"
   ]
  },
  {
   "cell_type": "code",
   "execution_count": null,
   "id": "16aa16b2",
   "metadata": {},
   "outputs": [],
   "source": []
  },
  {
   "cell_type": "code",
   "execution_count": null,
   "id": "bbf25226",
   "metadata": {},
   "outputs": [],
   "source": []
  },
  {
   "cell_type": "code",
   "execution_count": null,
   "id": "37fd40b1",
   "metadata": {},
   "outputs": [],
   "source": []
  },
  {
   "cell_type": "code",
   "execution_count": null,
   "id": "3bae55d3",
   "metadata": {},
   "outputs": [],
   "source": []
  },
  {
   "cell_type": "code",
   "execution_count": null,
   "id": "0bf4190e",
   "metadata": {},
   "outputs": [],
   "source": []
  },
  {
   "cell_type": "code",
   "execution_count": null,
   "id": "3f3a9b44",
   "metadata": {},
   "outputs": [],
   "source": []
  },
  {
   "cell_type": "code",
   "execution_count": null,
   "id": "f14c9995",
   "metadata": {},
   "outputs": [],
   "source": []
  },
  {
   "cell_type": "code",
   "execution_count": null,
   "id": "dead472e",
   "metadata": {},
   "outputs": [],
   "source": []
  },
  {
   "cell_type": "code",
   "execution_count": null,
   "id": "6a48d866",
   "metadata": {},
   "outputs": [],
   "source": []
  },
  {
   "cell_type": "code",
   "execution_count": null,
   "id": "8a9c24de",
   "metadata": {},
   "outputs": [],
   "source": []
  },
  {
   "cell_type": "code",
   "execution_count": null,
   "id": "2bde7fe0",
   "metadata": {},
   "outputs": [],
   "source": []
  }
 ],
 "metadata": {
  "kernelspec": {
   "display_name": "Python 3 (ipykernel)",
   "language": "python",
   "name": "python3"
  },
  "language_info": {
   "codemirror_mode": {
    "name": "ipython",
    "version": 3
   },
   "file_extension": ".py",
   "mimetype": "text/x-python",
   "name": "python",
   "nbconvert_exporter": "python",
   "pygments_lexer": "ipython3",
   "version": "3.9.13"
  }
 },
 "nbformat": 4,
 "nbformat_minor": 5
}
