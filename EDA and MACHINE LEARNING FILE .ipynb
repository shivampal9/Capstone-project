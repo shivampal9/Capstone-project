{
 "cells": [
  {
   "cell_type": "code",
   "execution_count": 1,
   "id": "2da281ef",
   "metadata": {},
   "outputs": [],
   "source": [
    "import numpy as np                 # For Numerical Calculation              \n",
    "import pandas as pd                # For Data Manipulation\n",
    "import matplotlib.pyplot as plt    # For Data Visualization\n",
    "import seaborn as sns              # For Data Visualization\n",
    "%matplotlib inline"
   ]
  },
  {
   "cell_type": "code",
   "execution_count": 2,
   "id": "409c2fe0",
   "metadata": {},
   "outputs": [],
   "source": [
    "# Hide the warnings\n",
    "import warnings\n",
    "warnings.filterwarnings('ignore')"
   ]
  },
  {
   "cell_type": "code",
   "execution_count": 3,
   "id": "7fab82a0",
   "metadata": {},
   "outputs": [
    {
     "data": {
      "text/html": [
       "<div>\n",
       "<style scoped>\n",
       "    .dataframe tbody tr th:only-of-type {\n",
       "        vertical-align: middle;\n",
       "    }\n",
       "\n",
       "    .dataframe tbody tr th {\n",
       "        vertical-align: top;\n",
       "    }\n",
       "\n",
       "    .dataframe thead th {\n",
       "        text-align: right;\n",
       "    }\n",
       "</style>\n",
       "<table border=\"1\" class=\"dataframe\">\n",
       "  <thead>\n",
       "    <tr style=\"text-align: right;\">\n",
       "      <th></th>\n",
       "      <th>ShoeName</th>\n",
       "      <th>Category(Men/Women)</th>\n",
       "      <th>no of colors</th>\n",
       "      <th>Price in Rs</th>\n",
       "    </tr>\n",
       "  </thead>\n",
       "  <tbody>\n",
       "    <tr>\n",
       "      <th>0</th>\n",
       "      <td>Nike Air Force 1 '07 LV8</td>\n",
       "      <td>Men's Shoes</td>\n",
       "      <td>1 Colour</td>\n",
       "      <td>10795</td>\n",
       "    </tr>\n",
       "    <tr>\n",
       "      <th>1</th>\n",
       "      <td>Nike Air Force 1 Shadow</td>\n",
       "      <td>Women's Shoes</td>\n",
       "      <td>1 Colour</td>\n",
       "      <td>9295</td>\n",
       "    </tr>\n",
       "    <tr>\n",
       "      <th>2</th>\n",
       "      <td>NikeCourt Legacy Suede</td>\n",
       "      <td>Men's Shoes</td>\n",
       "      <td>1 Colour</td>\n",
       "      <td>5995</td>\n",
       "    </tr>\n",
       "    <tr>\n",
       "      <th>3</th>\n",
       "      <td>Nike Air Force 1 '07</td>\n",
       "      <td>Men's Shoes</td>\n",
       "      <td>2 Colours</td>\n",
       "      <td>11895</td>\n",
       "    </tr>\n",
       "    <tr>\n",
       "      <th>4</th>\n",
       "      <td>NikeCourt Legacy Next Nature</td>\n",
       "      <td>Women's Shoes</td>\n",
       "      <td>4 Colours</td>\n",
       "      <td>5695</td>\n",
       "    </tr>\n",
       "    <tr>\n",
       "      <th>5</th>\n",
       "      <td>Nike Killshot 2</td>\n",
       "      <td>Women's Shoes</td>\n",
       "      <td>2 Colours</td>\n",
       "      <td>8595</td>\n",
       "    </tr>\n",
       "    <tr>\n",
       "      <th>6</th>\n",
       "      <td>Nike Tech Hera</td>\n",
       "      <td>Women's shoes</td>\n",
       "      <td>6 Colours</td>\n",
       "      <td>9695</td>\n",
       "    </tr>\n",
       "    <tr>\n",
       "      <th>7</th>\n",
       "      <td>Nike Waffle Debut</td>\n",
       "      <td>Men's Shoes</td>\n",
       "      <td>1 Colour</td>\n",
       "      <td>7095</td>\n",
       "    </tr>\n",
       "    <tr>\n",
       "      <th>8</th>\n",
       "      <td>Nike P-6000</td>\n",
       "      <td>Shoe</td>\n",
       "      <td>1 Colour</td>\n",
       "      <td>7995</td>\n",
       "    </tr>\n",
       "    <tr>\n",
       "      <th>9</th>\n",
       "      <td>Nike Phoenix Waffle</td>\n",
       "      <td>Women's Shoes</td>\n",
       "      <td>4 Colours</td>\n",
       "      <td>8695</td>\n",
       "    </tr>\n",
       "  </tbody>\n",
       "</table>\n",
       "</div>"
      ],
      "text/plain": [
       "                       ShoeName Category(Men/Women) no of colors  Price in Rs\n",
       "0      Nike Air Force 1 '07 LV8         Men's Shoes     1 Colour        10795\n",
       "1       Nike Air Force 1 Shadow       Women's Shoes     1 Colour         9295\n",
       "2        NikeCourt Legacy Suede         Men's Shoes     1 Colour         5995\n",
       "3          Nike Air Force 1 '07         Men's Shoes    2 Colours        11895\n",
       "4  NikeCourt Legacy Next Nature       Women's Shoes    4 Colours         5695\n",
       "5               Nike Killshot 2       Women's Shoes    2 Colours         8595\n",
       "6                Nike Tech Hera       Women's shoes    6 Colours         9695\n",
       "7             Nike Waffle Debut         Men's Shoes     1 Colour         7095\n",
       "8                   Nike P-6000                Shoe     1 Colour         7995\n",
       "9           Nike Phoenix Waffle       Women's Shoes    4 Colours         8695"
      ]
     },
     "execution_count": 3,
     "metadata": {},
     "output_type": "execute_result"
    }
   ],
   "source": [
    "df1=pd.read_csv('Table1.csv')\n",
    "df1.head(10)"
   ]
  },
  {
   "cell_type": "code",
   "execution_count": 4,
   "id": "ce6d8e34",
   "metadata": {},
   "outputs": [],
   "source": [
    "df2=pd.read_csv('Table2.csv')"
   ]
  },
  {
   "cell_type": "code",
   "execution_count": 5,
   "id": "d3a79aeb",
   "metadata": {},
   "outputs": [
    {
     "data": {
      "text/html": [
       "<div>\n",
       "<style scoped>\n",
       "    .dataframe tbody tr th:only-of-type {\n",
       "        vertical-align: middle;\n",
       "    }\n",
       "\n",
       "    .dataframe tbody tr th {\n",
       "        vertical-align: top;\n",
       "    }\n",
       "\n",
       "    .dataframe thead th {\n",
       "        text-align: right;\n",
       "    }\n",
       "</style>\n",
       "<table border=\"1\" class=\"dataframe\">\n",
       "  <thead>\n",
       "    <tr style=\"text-align: right;\">\n",
       "      <th></th>\n",
       "      <th>Sizes</th>\n",
       "      <th>No. of stars</th>\n",
       "      <th>No. of reviews</th>\n",
       "      <th>Style_code</th>\n",
       "    </tr>\n",
       "  </thead>\n",
       "  <tbody>\n",
       "    <tr>\n",
       "      <th>0</th>\n",
       "      <td>UK 6 (EU 40)</td>\n",
       "      <td>--</td>\n",
       "      <td>Reviews (0)</td>\n",
       "      <td>Style: FJ4170-002</td>\n",
       "    </tr>\n",
       "    <tr>\n",
       "      <th>1</th>\n",
       "      <td>UK 6.5</td>\n",
       "      <td>--</td>\n",
       "      <td>Reviews (0)</td>\n",
       "      <td>Style: DO7449-111</td>\n",
       "    </tr>\n",
       "    <tr>\n",
       "      <th>2</th>\n",
       "      <td>UK 7</td>\n",
       "      <td>--</td>\n",
       "      <td>Reviews (2)</td>\n",
       "      <td>Style: DH0956-002</td>\n",
       "    </tr>\n",
       "    <tr>\n",
       "      <th>3</th>\n",
       "      <td>UK 7.5</td>\n",
       "      <td>--</td>\n",
       "      <td>Reviews (0)</td>\n",
       "      <td>Style: FJ4146-100</td>\n",
       "    </tr>\n",
       "    <tr>\n",
       "      <th>4</th>\n",
       "      <td>UK 8</td>\n",
       "      <td>--</td>\n",
       "      <td>Reviews (0)</td>\n",
       "      <td>Style: FZ4627-400</td>\n",
       "    </tr>\n",
       "    <tr>\n",
       "      <th>5</th>\n",
       "      <td>UK 8.5</td>\n",
       "      <td>--</td>\n",
       "      <td>Reviews (0)</td>\n",
       "      <td>Style: FZ5630-001</td>\n",
       "    </tr>\n",
       "    <tr>\n",
       "      <th>6</th>\n",
       "      <td>UK 9</td>\n",
       "      <td>--</td>\n",
       "      <td>Reviews (70)</td>\n",
       "      <td>Style: DR9761-401</td>\n",
       "    </tr>\n",
       "    <tr>\n",
       "      <th>7</th>\n",
       "      <td>UK 9.5</td>\n",
       "      <td>--</td>\n",
       "      <td>Reviews (0)</td>\n",
       "      <td>Style: FJ4195-001</td>\n",
       "    </tr>\n",
       "    <tr>\n",
       "      <th>8</th>\n",
       "      <td>UK 10</td>\n",
       "      <td>--</td>\n",
       "      <td>Reviews (20)</td>\n",
       "      <td>Style: CD6404-101</td>\n",
       "    </tr>\n",
       "    <tr>\n",
       "      <th>9</th>\n",
       "      <td>UK 10.5</td>\n",
       "      <td>--</td>\n",
       "      <td>Reviews (32)</td>\n",
       "      <td>Style: FD2196-101</td>\n",
       "    </tr>\n",
       "  </tbody>\n",
       "</table>\n",
       "</div>"
      ],
      "text/plain": [
       "          Sizes No. of stars No. of reviews         Style_code\n",
       "0  UK 6 (EU 40)           --    Reviews (0)  Style: FJ4170-002\n",
       "1        UK 6.5           --    Reviews (0)  Style: DO7449-111\n",
       "2          UK 7           --    Reviews (2)  Style: DH0956-002\n",
       "3        UK 7.5           --    Reviews (0)  Style: FJ4146-100\n",
       "4          UK 8           --    Reviews (0)  Style: FZ4627-400\n",
       "5        UK 8.5           --    Reviews (0)  Style: FZ5630-001\n",
       "6          UK 9           --   Reviews (70)  Style: DR9761-401\n",
       "7        UK 9.5           --    Reviews (0)  Style: FJ4195-001\n",
       "8         UK 10           --   Reviews (20)  Style: CD6404-101\n",
       "9       UK 10.5           --   Reviews (32)  Style: FD2196-101"
      ]
     },
     "execution_count": 5,
     "metadata": {},
     "output_type": "execute_result"
    }
   ],
   "source": [
    "df2.head(10)"
   ]
  },
  {
   "cell_type": "code",
   "execution_count": 6,
   "id": "418d4ed9",
   "metadata": {},
   "outputs": [],
   "source": [
    "df=pd.concat([df1,df2],axis=1)"
   ]
  },
  {
   "cell_type": "code",
   "execution_count": null,
   "id": "a82365cc",
   "metadata": {},
   "outputs": [],
   "source": [
    "data=df.to_csv('shoe_data.csv',index=False)"
   ]
  },
  {
   "cell_type": "code",
   "execution_count": 7,
   "id": "628f06be",
   "metadata": {},
   "outputs": [
    {
     "data": {
      "text/html": [
       "<div>\n",
       "<style scoped>\n",
       "    .dataframe tbody tr th:only-of-type {\n",
       "        vertical-align: middle;\n",
       "    }\n",
       "\n",
       "    .dataframe tbody tr th {\n",
       "        vertical-align: top;\n",
       "    }\n",
       "\n",
       "    .dataframe thead th {\n",
       "        text-align: right;\n",
       "    }\n",
       "</style>\n",
       "<table border=\"1\" class=\"dataframe\">\n",
       "  <thead>\n",
       "    <tr style=\"text-align: right;\">\n",
       "      <th></th>\n",
       "      <th>ShoeName</th>\n",
       "      <th>Category(Men/Women)</th>\n",
       "      <th>no of colors</th>\n",
       "      <th>Price in Rs</th>\n",
       "      <th>Sizes</th>\n",
       "      <th>No. of stars</th>\n",
       "      <th>No. of reviews</th>\n",
       "      <th>Style_code</th>\n",
       "    </tr>\n",
       "  </thead>\n",
       "  <tbody>\n",
       "    <tr>\n",
       "      <th>0</th>\n",
       "      <td>Nike Air Force 1 '07 LV8</td>\n",
       "      <td>Men's Shoes</td>\n",
       "      <td>1 Colour</td>\n",
       "      <td>10795</td>\n",
       "      <td>UK 6 (EU 40)</td>\n",
       "      <td>--</td>\n",
       "      <td>Reviews (0)</td>\n",
       "      <td>Style: FJ4170-002</td>\n",
       "    </tr>\n",
       "    <tr>\n",
       "      <th>1</th>\n",
       "      <td>Nike Air Force 1 Shadow</td>\n",
       "      <td>Women's Shoes</td>\n",
       "      <td>1 Colour</td>\n",
       "      <td>9295</td>\n",
       "      <td>UK 6.5</td>\n",
       "      <td>--</td>\n",
       "      <td>Reviews (0)</td>\n",
       "      <td>Style: DO7449-111</td>\n",
       "    </tr>\n",
       "    <tr>\n",
       "      <th>2</th>\n",
       "      <td>NikeCourt Legacy Suede</td>\n",
       "      <td>Men's Shoes</td>\n",
       "      <td>1 Colour</td>\n",
       "      <td>5995</td>\n",
       "      <td>UK 7</td>\n",
       "      <td>--</td>\n",
       "      <td>Reviews (2)</td>\n",
       "      <td>Style: DH0956-002</td>\n",
       "    </tr>\n",
       "    <tr>\n",
       "      <th>3</th>\n",
       "      <td>Nike Air Force 1 '07</td>\n",
       "      <td>Men's Shoes</td>\n",
       "      <td>2 Colours</td>\n",
       "      <td>11895</td>\n",
       "      <td>UK 7.5</td>\n",
       "      <td>--</td>\n",
       "      <td>Reviews (0)</td>\n",
       "      <td>Style: FJ4146-100</td>\n",
       "    </tr>\n",
       "    <tr>\n",
       "      <th>4</th>\n",
       "      <td>NikeCourt Legacy Next Nature</td>\n",
       "      <td>Women's Shoes</td>\n",
       "      <td>4 Colours</td>\n",
       "      <td>5695</td>\n",
       "      <td>UK 8</td>\n",
       "      <td>--</td>\n",
       "      <td>Reviews (0)</td>\n",
       "      <td>Style: FZ4627-400</td>\n",
       "    </tr>\n",
       "    <tr>\n",
       "      <th>5</th>\n",
       "      <td>Nike Killshot 2</td>\n",
       "      <td>Women's Shoes</td>\n",
       "      <td>2 Colours</td>\n",
       "      <td>8595</td>\n",
       "      <td>UK 8.5</td>\n",
       "      <td>--</td>\n",
       "      <td>Reviews (0)</td>\n",
       "      <td>Style: FZ5630-001</td>\n",
       "    </tr>\n",
       "    <tr>\n",
       "      <th>6</th>\n",
       "      <td>Nike Tech Hera</td>\n",
       "      <td>Women's shoes</td>\n",
       "      <td>6 Colours</td>\n",
       "      <td>9695</td>\n",
       "      <td>UK 9</td>\n",
       "      <td>--</td>\n",
       "      <td>Reviews (70)</td>\n",
       "      <td>Style: DR9761-401</td>\n",
       "    </tr>\n",
       "    <tr>\n",
       "      <th>7</th>\n",
       "      <td>Nike Waffle Debut</td>\n",
       "      <td>Men's Shoes</td>\n",
       "      <td>1 Colour</td>\n",
       "      <td>7095</td>\n",
       "      <td>UK 9.5</td>\n",
       "      <td>--</td>\n",
       "      <td>Reviews (0)</td>\n",
       "      <td>Style: FJ4195-001</td>\n",
       "    </tr>\n",
       "    <tr>\n",
       "      <th>8</th>\n",
       "      <td>Nike P-6000</td>\n",
       "      <td>Shoe</td>\n",
       "      <td>1 Colour</td>\n",
       "      <td>7995</td>\n",
       "      <td>UK 10</td>\n",
       "      <td>--</td>\n",
       "      <td>Reviews (20)</td>\n",
       "      <td>Style: CD6404-101</td>\n",
       "    </tr>\n",
       "    <tr>\n",
       "      <th>9</th>\n",
       "      <td>Nike Phoenix Waffle</td>\n",
       "      <td>Women's Shoes</td>\n",
       "      <td>4 Colours</td>\n",
       "      <td>8695</td>\n",
       "      <td>UK 10.5</td>\n",
       "      <td>--</td>\n",
       "      <td>Reviews (32)</td>\n",
       "      <td>Style: FD2196-101</td>\n",
       "    </tr>\n",
       "  </tbody>\n",
       "</table>\n",
       "</div>"
      ],
      "text/plain": [
       "                       ShoeName Category(Men/Women) no of colors  Price in Rs  \\\n",
       "0      Nike Air Force 1 '07 LV8         Men's Shoes     1 Colour        10795   \n",
       "1       Nike Air Force 1 Shadow       Women's Shoes     1 Colour         9295   \n",
       "2        NikeCourt Legacy Suede         Men's Shoes     1 Colour         5995   \n",
       "3          Nike Air Force 1 '07         Men's Shoes    2 Colours        11895   \n",
       "4  NikeCourt Legacy Next Nature       Women's Shoes    4 Colours         5695   \n",
       "5               Nike Killshot 2       Women's Shoes    2 Colours         8595   \n",
       "6                Nike Tech Hera       Women's shoes    6 Colours         9695   \n",
       "7             Nike Waffle Debut         Men's Shoes     1 Colour         7095   \n",
       "8                   Nike P-6000                Shoe     1 Colour         7995   \n",
       "9           Nike Phoenix Waffle       Women's Shoes    4 Colours         8695   \n",
       "\n",
       "          Sizes No. of stars No. of reviews         Style_code  \n",
       "0  UK 6 (EU 40)           --    Reviews (0)  Style: FJ4170-002  \n",
       "1        UK 6.5           --    Reviews (0)  Style: DO7449-111  \n",
       "2          UK 7           --    Reviews (2)  Style: DH0956-002  \n",
       "3        UK 7.5           --    Reviews (0)  Style: FJ4146-100  \n",
       "4          UK 8           --    Reviews (0)  Style: FZ4627-400  \n",
       "5        UK 8.5           --    Reviews (0)  Style: FZ5630-001  \n",
       "6          UK 9           --   Reviews (70)  Style: DR9761-401  \n",
       "7        UK 9.5           --    Reviews (0)  Style: FJ4195-001  \n",
       "8         UK 10           --   Reviews (20)  Style: CD6404-101  \n",
       "9       UK 10.5           --   Reviews (32)  Style: FD2196-101  "
      ]
     },
     "execution_count": 7,
     "metadata": {},
     "output_type": "execute_result"
    }
   ],
   "source": [
    "data=pd.read_csv('shoe_data.csv')\n",
    "data.head(10)"
   ]
  },
  {
   "cell_type": "markdown",
   "id": "f2766d8a",
   "metadata": {},
   "source": [
    "### Checking the Size of the Dataset"
   ]
  },
  {
   "cell_type": "code",
   "execution_count": 8,
   "id": "e740d394",
   "metadata": {},
   "outputs": [
    {
     "data": {
      "text/plain": [
       "(400, 8)"
      ]
     },
     "execution_count": 8,
     "metadata": {},
     "output_type": "execute_result"
    }
   ],
   "source": [
    "data.shape"
   ]
  },
  {
   "cell_type": "markdown",
   "id": "50399f9c",
   "metadata": {},
   "source": [
    "Outcome : There are 400 rows and 8columns in our Dataset."
   ]
  },
  {
   "cell_type": "markdown",
   "id": "f56be12c",
   "metadata": {},
   "source": [
    "### Checking the columns in the Dataset"
   ]
  },
  {
   "cell_type": "code",
   "execution_count": 9,
   "id": "4574d0eb",
   "metadata": {},
   "outputs": [
    {
     "data": {
      "text/plain": [
       "['ShoeName',\n",
       " 'Category(Men/Women)',\n",
       " 'no of colors',\n",
       " 'Price in Rs',\n",
       " 'Sizes',\n",
       " 'No. of stars',\n",
       " 'No. of reviews',\n",
       " 'Style_code']"
      ]
     },
     "execution_count": 9,
     "metadata": {},
     "output_type": "execute_result"
    }
   ],
   "source": [
    "data.columns.to_list()"
   ]
  },
  {
   "cell_type": "code",
   "execution_count": 12,
   "id": "5ef5e3bd",
   "metadata": {},
   "outputs": [
    {
     "name": "stdout",
     "output_type": "stream",
     "text": [
      "<class 'pandas.core.frame.DataFrame'>\n",
      "RangeIndex: 400 entries, 0 to 399\n",
      "Data columns (total 8 columns):\n",
      " #   Column               Non-Null Count  Dtype \n",
      "---  ------               --------------  ----- \n",
      " 0   ShoeName             400 non-null    object\n",
      " 1   Category(Men/Women)  400 non-null    object\n",
      " 2   no of colors         372 non-null    object\n",
      " 3   Price in Rs          400 non-null    int64 \n",
      " 4   Sizes                400 non-null    object\n",
      " 5   No. of stars         200 non-null    object\n",
      " 6   No. of reviews       200 non-null    object\n",
      " 7   Style_code           200 non-null    object\n",
      "dtypes: int64(1), object(7)\n",
      "memory usage: 25.1+ KB\n"
     ]
    }
   ],
   "source": [
    "# Checking the types of data present in the Dataset\n",
    "data.info()"
   ]
  },
  {
   "cell_type": "code",
   "execution_count": 14,
   "id": "86a5f8db",
   "metadata": {},
   "outputs": [],
   "source": [
    "# # Changing the Datatype of price column from object to float\n",
    "data['Price in Rs'] = data['Price in Rs'].astype(float)\n",
    "\n"
   ]
  },
  {
   "cell_type": "code",
   "execution_count": 15,
   "id": "b22e938c",
   "metadata": {},
   "outputs": [
    {
     "data": {
      "text/plain": [
       "ShoeName                 0\n",
       "Category(Men/Women)      0\n",
       "no of colors            28\n",
       "Price in Rs              0\n",
       "Sizes                    0\n",
       "No. of stars           200\n",
       "No. of reviews         200\n",
       "Style_code             200\n",
       "dtype: int64"
      ]
     },
     "execution_count": 15,
     "metadata": {},
     "output_type": "execute_result"
    }
   ],
   "source": [
    "\n",
    "data.isna().sum()"
   ]
  },
  {
   "cell_type": "code",
   "execution_count": 16,
   "id": "54ca2a62",
   "metadata": {},
   "outputs": [
    {
     "data": {
      "text/plain": [
       "9"
      ]
     },
     "execution_count": 16,
     "metadata": {},
     "output_type": "execute_result"
    }
   ],
   "source": [
    "data.duplicated().sum()"
   ]
  },
  {
   "cell_type": "code",
   "execution_count": 17,
   "id": "eaf18484",
   "metadata": {},
   "outputs": [
    {
     "name": "stdout",
     "output_type": "stream",
     "text": [
      "We have 1 numerical features : ['Price in Rs']\n",
      "\n",
      "We have 7 categorical features : ['ShoeName', 'Category(Men/Women)', 'no of colors', 'Sizes', 'No. of stars', 'No. of reviews', 'Style_code']\n"
     ]
    }
   ],
   "source": [
    "# define numerical & categorical columns\n",
    "numeric_features = [feature for feature in data.columns if data[feature].dtype != 'O']\n",
    "categorical_features = [feature for feature in data.columns if data[feature].dtype == 'O']\n",
    "\n",
    "# print columns\n",
    "print('We have {} numerical features : {}'.format(len(numeric_features), numeric_features))\n",
    "print('\\nWe have {} categorical features : {}'.format(len(categorical_features), categorical_features))"
   ]
  },
  {
   "cell_type": "code",
   "execution_count": 18,
   "id": "e1864c3b",
   "metadata": {},
   "outputs": [
    {
     "data": {
      "text/html": [
       "<div>\n",
       "<style scoped>\n",
       "    .dataframe tbody tr th:only-of-type {\n",
       "        vertical-align: middle;\n",
       "    }\n",
       "\n",
       "    .dataframe tbody tr th {\n",
       "        vertical-align: top;\n",
       "    }\n",
       "\n",
       "    .dataframe thead th {\n",
       "        text-align: right;\n",
       "    }\n",
       "</style>\n",
       "<table border=\"1\" class=\"dataframe\">\n",
       "  <thead>\n",
       "    <tr style=\"text-align: right;\">\n",
       "      <th></th>\n",
       "      <th>count</th>\n",
       "      <th>mean</th>\n",
       "      <th>std</th>\n",
       "      <th>min</th>\n",
       "      <th>25%</th>\n",
       "      <th>50%</th>\n",
       "      <th>75%</th>\n",
       "      <th>max</th>\n",
       "    </tr>\n",
       "  </thead>\n",
       "  <tbody>\n",
       "    <tr>\n",
       "      <th>Price in Rs</th>\n",
       "      <td>400.0</td>\n",
       "      <td>6048.225</td>\n",
       "      <td>3901.002525</td>\n",
       "      <td>599.0</td>\n",
       "      <td>2795.0</td>\n",
       "      <td>5399.0</td>\n",
       "      <td>7999.0</td>\n",
       "      <td>22795.0</td>\n",
       "    </tr>\n",
       "  </tbody>\n",
       "</table>\n",
       "</div>"
      ],
      "text/plain": [
       "             count      mean          std    min     25%     50%     75%  \\\n",
       "Price in Rs  400.0  6048.225  3901.002525  599.0  2795.0  5399.0  7999.0   \n",
       "\n",
       "                 max  \n",
       "Price in Rs  22795.0  "
      ]
     },
     "execution_count": 18,
     "metadata": {},
     "output_type": "execute_result"
    }
   ],
   "source": [
    "df.describe().T"
   ]
  },
  {
   "cell_type": "code",
   "execution_count": 19,
   "id": "995770f5",
   "metadata": {},
   "outputs": [
    {
     "data": {
      "text/html": [
       "<div>\n",
       "<style scoped>\n",
       "    .dataframe tbody tr th:only-of-type {\n",
       "        vertical-align: middle;\n",
       "    }\n",
       "\n",
       "    .dataframe tbody tr th {\n",
       "        vertical-align: top;\n",
       "    }\n",
       "\n",
       "    .dataframe thead th {\n",
       "        text-align: right;\n",
       "    }\n",
       "</style>\n",
       "<table border=\"1\" class=\"dataframe\">\n",
       "  <thead>\n",
       "    <tr style=\"text-align: right;\">\n",
       "      <th></th>\n",
       "      <th>count</th>\n",
       "      <th>unique</th>\n",
       "      <th>top</th>\n",
       "      <th>freq</th>\n",
       "    </tr>\n",
       "  </thead>\n",
       "  <tbody>\n",
       "    <tr>\n",
       "      <th>ShoeName</th>\n",
       "      <td>400</td>\n",
       "      <td>335</td>\n",
       "      <td>Superstar Shoes</td>\n",
       "      <td>8</td>\n",
       "    </tr>\n",
       "    <tr>\n",
       "      <th>Category(Men/Women)</th>\n",
       "      <td>400</td>\n",
       "      <td>56</td>\n",
       "      <td>men</td>\n",
       "      <td>123</td>\n",
       "    </tr>\n",
       "    <tr>\n",
       "      <th>no of colors</th>\n",
       "      <td>372</td>\n",
       "      <td>34</td>\n",
       "      <td>1 Colour</td>\n",
       "      <td>44</td>\n",
       "    </tr>\n",
       "    <tr>\n",
       "      <th>Sizes</th>\n",
       "      <td>400</td>\n",
       "      <td>32</td>\n",
       "      <td>-</td>\n",
       "      <td>99</td>\n",
       "    </tr>\n",
       "    <tr>\n",
       "      <th>No. of stars</th>\n",
       "      <td>200</td>\n",
       "      <td>14</td>\n",
       "      <td>--</td>\n",
       "      <td>100</td>\n",
       "    </tr>\n",
       "    <tr>\n",
       "      <th>No. of reviews</th>\n",
       "      <td>200</td>\n",
       "      <td>101</td>\n",
       "      <td>Reviews (0)</td>\n",
       "      <td>19</td>\n",
       "    </tr>\n",
       "    <tr>\n",
       "      <th>Style_code</th>\n",
       "      <td>200</td>\n",
       "      <td>73</td>\n",
       "      <td>-</td>\n",
       "      <td>100</td>\n",
       "    </tr>\n",
       "  </tbody>\n",
       "</table>\n",
       "</div>"
      ],
      "text/plain": [
       "                    count unique              top freq\n",
       "ShoeName              400    335  Superstar Shoes    8\n",
       "Category(Men/Women)   400     56              men  123\n",
       "no of colors          372     34         1 Colour   44\n",
       "Sizes                 400     32                -   99\n",
       "No. of stars          200     14               --  100\n",
       "No. of reviews        200    101      Reviews (0)   19\n",
       "Style_code            200     73                -  100"
      ]
     },
     "execution_count": 19,
     "metadata": {},
     "output_type": "execute_result"
    }
   ],
   "source": [
    "df[categorical_features].describe().T"
   ]
  },
  {
   "cell_type": "code",
   "execution_count": 20,
   "id": "fe2f13f0",
   "metadata": {},
   "outputs": [
    {
     "data": {
      "text/plain": [
       "ShoeName               335\n",
       "Category(Men/Women)     56\n",
       "no of colors            34\n",
       "Price in Rs            114\n",
       "Sizes                   32\n",
       "No. of stars            14\n",
       "No. of reviews         101\n",
       "Style_code              73\n",
       "dtype: int64"
      ]
     },
     "execution_count": 20,
     "metadata": {},
     "output_type": "execute_result"
    }
   ],
   "source": [
    "df.nunique()"
   ]
  },
  {
   "cell_type": "markdown",
   "id": "ad4c709a",
   "metadata": {},
   "source": [
    "### Exploring Data (Analysis with Visualisation)"
   ]
  },
  {
   "cell_type": "code",
   "execution_count": 21,
   "id": "1c47d3e5",
   "metadata": {
    "scrolled": true
   },
   "outputs": [
    {
     "data": {
      "text/html": [
       "<div>\n",
       "<style scoped>\n",
       "    .dataframe tbody tr th:only-of-type {\n",
       "        vertical-align: middle;\n",
       "    }\n",
       "\n",
       "    .dataframe tbody tr th {\n",
       "        vertical-align: top;\n",
       "    }\n",
       "\n",
       "    .dataframe thead th {\n",
       "        text-align: right;\n",
       "    }\n",
       "</style>\n",
       "<table border=\"1\" class=\"dataframe\">\n",
       "  <thead>\n",
       "    <tr style=\"text-align: right;\">\n",
       "      <th></th>\n",
       "      <th>ShoeName</th>\n",
       "      <th>Category(Men/Women)</th>\n",
       "      <th>no of colors</th>\n",
       "      <th>Price in Rs</th>\n",
       "      <th>Sizes</th>\n",
       "      <th>No. of stars</th>\n",
       "      <th>No. of reviews</th>\n",
       "      <th>Style_code</th>\n",
       "    </tr>\n",
       "  </thead>\n",
       "  <tbody>\n",
       "    <tr>\n",
       "      <th>0</th>\n",
       "      <td>Nike Air Force 1 '07 LV8</td>\n",
       "      <td>Men's Shoes</td>\n",
       "      <td>1 Colour</td>\n",
       "      <td>10795.0</td>\n",
       "      <td>UK 6 (EU 40)</td>\n",
       "      <td>--</td>\n",
       "      <td>Reviews (0)</td>\n",
       "      <td>Style: FJ4170-002</td>\n",
       "    </tr>\n",
       "    <tr>\n",
       "      <th>1</th>\n",
       "      <td>Nike Air Force 1 Shadow</td>\n",
       "      <td>Women's Shoes</td>\n",
       "      <td>1 Colour</td>\n",
       "      <td>9295.0</td>\n",
       "      <td>UK 6.5</td>\n",
       "      <td>--</td>\n",
       "      <td>Reviews (0)</td>\n",
       "      <td>Style: DO7449-111</td>\n",
       "    </tr>\n",
       "    <tr>\n",
       "      <th>2</th>\n",
       "      <td>NikeCourt Legacy Suede</td>\n",
       "      <td>Men's Shoes</td>\n",
       "      <td>1 Colour</td>\n",
       "      <td>5995.0</td>\n",
       "      <td>UK 7</td>\n",
       "      <td>--</td>\n",
       "      <td>Reviews (2)</td>\n",
       "      <td>Style: DH0956-002</td>\n",
       "    </tr>\n",
       "    <tr>\n",
       "      <th>3</th>\n",
       "      <td>Nike Air Force 1 '07</td>\n",
       "      <td>Men's Shoes</td>\n",
       "      <td>2 Colours</td>\n",
       "      <td>11895.0</td>\n",
       "      <td>UK 7.5</td>\n",
       "      <td>--</td>\n",
       "      <td>Reviews (0)</td>\n",
       "      <td>Style: FJ4146-100</td>\n",
       "    </tr>\n",
       "    <tr>\n",
       "      <th>4</th>\n",
       "      <td>NikeCourt Legacy Next Nature</td>\n",
       "      <td>Women's Shoes</td>\n",
       "      <td>4 Colours</td>\n",
       "      <td>5695.0</td>\n",
       "      <td>UK 8</td>\n",
       "      <td>--</td>\n",
       "      <td>Reviews (0)</td>\n",
       "      <td>Style: FZ4627-400</td>\n",
       "    </tr>\n",
       "  </tbody>\n",
       "</table>\n",
       "</div>"
      ],
      "text/plain": [
       "                       ShoeName Category(Men/Women) no of colors  Price in Rs  \\\n",
       "0      Nike Air Force 1 '07 LV8         Men's Shoes     1 Colour      10795.0   \n",
       "1       Nike Air Force 1 Shadow       Women's Shoes     1 Colour       9295.0   \n",
       "2        NikeCourt Legacy Suede         Men's Shoes     1 Colour       5995.0   \n",
       "3          Nike Air Force 1 '07         Men's Shoes    2 Colours      11895.0   \n",
       "4  NikeCourt Legacy Next Nature       Women's Shoes    4 Colours       5695.0   \n",
       "\n",
       "          Sizes No. of stars No. of reviews         Style_code  \n",
       "0  UK 6 (EU 40)           --    Reviews (0)  Style: FJ4170-002  \n",
       "1        UK 6.5           --    Reviews (0)  Style: DO7449-111  \n",
       "2          UK 7           --    Reviews (2)  Style: DH0956-002  \n",
       "3        UK 7.5           --    Reviews (0)  Style: FJ4146-100  \n",
       "4          UK 8           --    Reviews (0)  Style: FZ4627-400  "
      ]
     },
     "execution_count": 21,
     "metadata": {},
     "output_type": "execute_result"
    }
   ],
   "source": [
    "data.head()"
   ]
  },
  {
   "cell_type": "code",
   "execution_count": 22,
   "id": "f462b04c",
   "metadata": {},
   "outputs": [
    {
     "data": {
      "text/plain": [
       "Text(0.5, 1.0, 'Category Distribution')"
      ]
     },
     "execution_count": 22,
     "metadata": {},
     "output_type": "execute_result"
    },
    {
     "data": {
      "image/png": "[encoded data removed]",
      "text/plain": [
       "<Figure size 2000x2000 with 1 Axes>"
      ]
     },
     "metadata": {},
     "output_type": "display_data"
    }
   ],
   "source": [
    "# distribution of Category value\n",
    "\n",
    "plt.figure(figsize=(20,20))\n",
    "sns.countplot(x='Category(Men/Women)', data=data)\n",
    "plt.title('Category Distribution')\n"
   ]
  },
  {
   "cell_type": "code",
   "execution_count": 23,
   "id": "eef23dd3",
   "metadata": {},
   "outputs": [
    {
     "data": {
      "text/plain": [
       "<Axes: xlabel='Sizes', ylabel='Price in Rs'>"
      ]
     },
     "execution_count": 23,
     "metadata": {},
     "output_type": "execute_result"
    },
    {
     "data": {
      "image/png": "[encoded data removed]",
      "text/plain": [
       "<Figure size 640x480 with 1 Axes>"
      ]
     },
     "metadata": {},
     "output_type": "display_data"
    }
   ],
   "source": [
    "# size vs price\n",
    "\n",
    "sns.violinplot(data=data, x='Sizes', y='Price in Rs')"
   ]
  },
  {
   "cell_type": "code",
   "execution_count": 24,
   "id": "6bfb4391",
   "metadata": {},
   "outputs": [
    {
     "data": {
      "text/plain": [
       "<Axes: xlabel='Category(Men/Women)', ylabel='Price in Rs'>"
      ]
     },
     "execution_count": 24,
     "metadata": {},
     "output_type": "execute_result"
    },
    {
     "data": {
      "image/png": "[encoded data removed]",
      "text/plain": [
       "<Figure size 640x480 with 1 Axes>"
      ]
     },
     "metadata": {},
     "output_type": "display_data"
    }
   ],
   "source": [
    "sns.violinplot(data=df, x='Category(Men/Women)', y='Price in Rs')"
   ]
  },
  {
   "cell_type": "markdown",
   "id": "f1d2e4b5",
   "metadata": {},
   "source": [
    "## Corelation Matrix"
   ]
  },
  {
   "cell_type": "code",
   "execution_count": 26,
   "id": "27eed528",
   "metadata": {},
   "outputs": [
    {
     "data": {
      "text/plain": [
       "<Axes: >"
      ]
     },
     "execution_count": 26,
     "metadata": {},
     "output_type": "execute_result"
    },
    {
     "data": {
      "image/png": "[encoded data removed]",
      "text/plain": [
       "<Figure size 1200x1200 with 2 Axes>"
      ]
     },
     "metadata": {},
     "output_type": "display_data"
    }
   ],
   "source": [
    "cmap = sns.diverging_palette(70,20,s=50, l=40, n=6,as_cmap=True)\n",
    "corrmat= data.corr()\n",
    "f, ax = plt.subplots(figsize=(12,12))\n",
    "sns.heatmap(corrmat,cmap=cmap,annot=True,)"
   ]
  },
  {
   "cell_type": "markdown",
   "id": "0481af5c",
   "metadata": {},
   "source": [
    "### Dropping Irrelevant Columns"
   ]
  },
  {
   "cell_type": "code",
   "execution_count": 29,
   "id": "d7862403",
   "metadata": {},
   "outputs": [
    {
     "data": {
      "text/html": [
       "<div>\n",
       "<style scoped>\n",
       "    .dataframe tbody tr th:only-of-type {\n",
       "        vertical-align: middle;\n",
       "    }\n",
       "\n",
       "    .dataframe tbody tr th {\n",
       "        vertical-align: top;\n",
       "    }\n",
       "\n",
       "    .dataframe thead th {\n",
       "        text-align: right;\n",
       "    }\n",
       "</style>\n",
       "<table border=\"1\" class=\"dataframe\">\n",
       "  <thead>\n",
       "    <tr style=\"text-align: right;\">\n",
       "      <th></th>\n",
       "      <th>ShoeName</th>\n",
       "      <th>Category(Men/Women)</th>\n",
       "      <th>no of colors</th>\n",
       "      <th>Price in Rs</th>\n",
       "      <th>Sizes</th>\n",
       "    </tr>\n",
       "  </thead>\n",
       "  <tbody>\n",
       "    <tr>\n",
       "      <th>0</th>\n",
       "      <td>Nike Air Force 1 '07 LV8</td>\n",
       "      <td>Men's Shoes</td>\n",
       "      <td>1 Colour</td>\n",
       "      <td>10795.0</td>\n",
       "      <td>UK 6 (EU 40)</td>\n",
       "    </tr>\n",
       "    <tr>\n",
       "      <th>1</th>\n",
       "      <td>Nike Air Force 1 Shadow</td>\n",
       "      <td>Women's Shoes</td>\n",
       "      <td>1 Colour</td>\n",
       "      <td>9295.0</td>\n",
       "      <td>UK 6.5</td>\n",
       "    </tr>\n",
       "    <tr>\n",
       "      <th>2</th>\n",
       "      <td>NikeCourt Legacy Suede</td>\n",
       "      <td>Men's Shoes</td>\n",
       "      <td>1 Colour</td>\n",
       "      <td>5995.0</td>\n",
       "      <td>UK 7</td>\n",
       "    </tr>\n",
       "    <tr>\n",
       "      <th>3</th>\n",
       "      <td>Nike Air Force 1 '07</td>\n",
       "      <td>Men's Shoes</td>\n",
       "      <td>2 Colours</td>\n",
       "      <td>11895.0</td>\n",
       "      <td>UK 7.5</td>\n",
       "    </tr>\n",
       "    <tr>\n",
       "      <th>4</th>\n",
       "      <td>NikeCourt Legacy Next Nature</td>\n",
       "      <td>Women's Shoes</td>\n",
       "      <td>4 Colours</td>\n",
       "      <td>5695.0</td>\n",
       "      <td>UK 8</td>\n",
       "    </tr>\n",
       "  </tbody>\n",
       "</table>\n",
       "</div>"
      ],
      "text/plain": [
       "                       ShoeName Category(Men/Women) no of colors  Price in Rs  \\\n",
       "0      Nike Air Force 1 '07 LV8         Men's Shoes     1 Colour      10795.0   \n",
       "1       Nike Air Force 1 Shadow       Women's Shoes     1 Colour       9295.0   \n",
       "2        NikeCourt Legacy Suede         Men's Shoes     1 Colour       5995.0   \n",
       "3          Nike Air Force 1 '07         Men's Shoes    2 Colours      11895.0   \n",
       "4  NikeCourt Legacy Next Nature       Women's Shoes    4 Colours       5695.0   \n",
       "\n",
       "          Sizes  \n",
       "0  UK 6 (EU 40)  \n",
       "1        UK 6.5  \n",
       "2          UK 7  \n",
       "3        UK 7.5  \n",
       "4          UK 8  "
      ]
     },
     "execution_count": 29,
     "metadata": {},
     "output_type": "execute_result"
    }
   ],
   "source": [
    "data.drop(['No. of reviews','Style_code','No. of stars'], axis = 1, inplace=True)\n",
    "data.head()"
   ]
  },
  {
   "cell_type": "code",
   "execution_count": null,
   "id": "c3a8de3e",
   "metadata": {},
   "outputs": [],
   "source": []
  },
  {
   "cell_type": "markdown",
   "id": "5fe81afb",
   "metadata": {},
   "source": [
    "### Train Test Splitting of Data"
   ]
  },
  {
   "cell_type": "code",
   "execution_count": 30,
   "id": "056ab98a",
   "metadata": {},
   "outputs": [],
   "source": [
    "X1=data.drop('Price in Rs',axis=1).values\n",
    "y1=data['Price in Rs'].values"
   ]
  },
  {
   "cell_type": "code",
   "execution_count": null,
   "id": "8bf23f12",
   "metadata": {},
   "outputs": [],
   "source": []
  },
  {
   "cell_type": "code",
   "execution_count": null,
   "id": "2a97555c",
   "metadata": {},
   "outputs": [],
   "source": []
  },
  {
   "cell_type": "code",
   "execution_count": null,
   "id": "1808b8d0",
   "metadata": {},
   "outputs": [],
   "source": []
  }
 ],
 "metadata": {
  "kernelspec": {
   "display_name": "Python 3 (ipykernel)",
   "language": "python",
   "name": "python3"
  },
  "language_info": {
   "codemirror_mode": {
    "name": "ipython",
    "version": 3
   },
   "file_extension": ".py",
   "mimetype": "text/x-python",
   "name": "python",
   "nbconvert_exporter": "python",
   "pygments_lexer": "ipython3",
   "version": "3.11.5"
  }
 },
 "nbformat": 4,
 "nbformat_minor": 5
}
